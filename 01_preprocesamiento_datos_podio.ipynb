{
 "cells": [
  {
   "cell_type": "markdown",
   "metadata": {},
   "source": [
    "# Preprocesamiento de Datos: Prediccion de Podio en F1\n",
    "\n",
    "## Objetivo\n",
    "Este notebook implementa el pipeline completo de preprocesamiento de datos para el Modelo 4: **Prediccion de Podio (Top 3)** en carreras de Formula 1.\n",
    "\n",
    "## Contenido\n",
    "1. Carga y exploracion inicial de datos\n",
    "2. Analisis de calidad de datos\n",
    "3. Analisis de correlaciones y data leakage\n",
    "4. Transformaciones y feature engineering\n",
    "5. Balanceo de clases con SMOTE\n",
    "6. Guardado de datasets procesados\n",
    "\n",
    "## Dataset Final\n",
    "- **Target**: `is_podium` (1 si posicion <= 3, 0 en caso contrario)\n",
    "- **Features**: ~190 variables transformadas\n",
    "- **Split**: Temporal (Train: hasta 2022, Test: 2023+)"
   ]
  },
  {
   "cell_type": "markdown",
   "metadata": {},
   "source": [
    "---\n",
    "## 1. Importar Librerias y Configuracion Inicial"
   ]
  },
  {
   "cell_type": "code",
   "execution_count": 30,
   "metadata": {},
   "outputs": [
    {
     "name": "stdout",
     "output_type": "stream",
     "text": [
      "Requirement already satisfied: pandas in /usr/local/lib/python3.11/site-packages (2.3.3)\n",
      "Requirement already satisfied: numpy in /usr/local/lib/python3.11/site-packages (2.3.4)\n",
      "Requirement already satisfied: matplotlib in /usr/local/lib/python3.11/site-packages (3.10.7)\n",
      "Requirement already satisfied: seaborn in /usr/local/lib/python3.11/site-packages (0.12.2)\n",
      "Collecting scikit-learn==1.5.2\n",
      "  Downloading scikit_learn-1.5.2-cp311-cp311-manylinux_2_17_x86_64.manylinux2014_x86_64.whl.metadata (13 kB)\n",
      "Requirement already satisfied: category_encoders in /usr/local/lib/python3.11/site-packages (2.8.1)\n",
      "Requirement already satisfied: imbalanced-learn in /usr/local/lib/python3.11/site-packages (0.14.0)\n",
      "Requirement already satisfied: joblib in /usr/local/lib/python3.11/site-packages (1.5.2)\n",
      "Requirement already satisfied: scipy in /usr/local/lib/python3.11/site-packages (1.16.2)\n",
      "Requirement already satisfied: threadpoolctl>=3.1.0 in /usr/local/lib/python3.11/site-packages (from scikit-learn==1.5.2) (3.6.0)\n",
      "Requirement already satisfied: python-dateutil>=2.8.2 in /usr/local/lib/python3.11/site-packages (from pandas) (2.9.0.post0)\n",
      "Requirement already satisfied: pytz>=2020.1 in /usr/local/lib/python3.11/site-packages (from pandas) (2025.2)\n",
      "Requirement already satisfied: tzdata>=2022.7 in /usr/local/lib/python3.11/site-packages (from pandas) (2025.2)\n",
      "Requirement already satisfied: contourpy>=1.0.1 in /usr/local/lib/python3.11/site-packages (from matplotlib) (1.3.3)\n",
      "Requirement already satisfied: cycler>=0.10 in /usr/local/lib/python3.11/site-packages (from matplotlib) (0.12.1)\n",
      "Requirement already satisfied: fonttools>=4.22.0 in /usr/local/lib/python3.11/site-packages (from matplotlib) (4.60.1)\n",
      "Requirement already satisfied: kiwisolver>=1.3.1 in /usr/local/lib/python3.11/site-packages (from matplotlib) (1.4.9)\n",
      "Requirement already satisfied: packaging>=20.0 in /usr/local/lib/python3.11/site-packages (from matplotlib) (25.0)\n",
      "Requirement already satisfied: pillow>=8 in /usr/local/lib/python3.11/site-packages (from matplotlib) (12.0.0)\n",
      "Requirement already satisfied: pyparsing>=3 in /usr/local/lib/python3.11/site-packages (from matplotlib) (3.2.5)\n",
      "Requirement already satisfied: patsy>=0.5.1 in /usr/local/lib/python3.11/site-packages (from category_encoders) (1.0.2)\n",
      "INFO: pip is looking at multiple versions of category-encoders to determine which version is compatible with other requirements. This could take a while.\n",
      "Collecting category_encoders\n",
      "  Downloading category_encoders-2.8.0-py3-none-any.whl.metadata (7.9 kB)\n",
      "  Downloading category_encoders-2.7.0-py3-none-any.whl.metadata (7.9 kB)\n",
      "Requirement already satisfied: statsmodels>=0.9.0 in /usr/local/lib/python3.11/site-packages (from category_encoders) (0.14.5)\n",
      "Requirement already satisfied: six>=1.5 in /usr/local/lib/python3.11/site-packages (from python-dateutil>=2.8.2->pandas) (1.17.0)\n",
      "Downloading scikit_learn-1.5.2-cp311-cp311-manylinux_2_17_x86_64.manylinux2014_x86_64.whl (13.3 MB)\n",
      "\u001b[2K   \u001b[90m━━━━━━━━━━━━━━━━━━━━━━━━━━━━━━━━━━━━━━━━\u001b[0m \u001b[32m13.3/13.3 MB\u001b[0m \u001b[31m69.7 MB/s\u001b[0m eta \u001b[36m0:00:00\u001b[0m00:01\u001b[0m00:01\u001b[0m\n",
      "\u001b[?25hDownloading category_encoders-2.7.0-py3-none-any.whl (85 kB)\n",
      "\u001b[2K   \u001b[90m━━━━━━━━━━━━━━━━━━━━━━━━━━━━━━━━━━━━━━━━\u001b[0m \u001b[32m85.4/85.4 kB\u001b[0m \u001b[31m23.4 MB/s\u001b[0m eta \u001b[36m0:00:00\u001b[0m\n",
      "\u001b[?25hInstalling collected packages: scikit-learn, category_encoders\n",
      "  Attempting uninstall: scikit-learn\n",
      "    Found existing installation: scikit-learn 1.7.2\n",
      "    Uninstalling scikit-learn-1.7.2:\n",
      "      Successfully uninstalled scikit-learn-1.7.2\n",
      "  Attempting uninstall: category_encoders\n",
      "    Found existing installation: category_encoders 2.8.1\n",
      "    Uninstalling category_encoders-2.8.1:\n",
      "      Successfully uninstalled category_encoders-2.8.1\n",
      "Successfully installed category_encoders-2.7.0 scikit-learn-1.5.2\n",
      "\u001b[33mWARNING: Running pip as the 'root' user can result in broken permissions and conflicting behaviour with the system package manager. It is recommended to use a virtual environment instead: https://pip.pypa.io/warnings/venv\u001b[0m\u001b[33m\n",
      "\u001b[0m\n",
      "\u001b[1m[\u001b[0m\u001b[34;49mnotice\u001b[0m\u001b[1;39;49m]\u001b[0m\u001b[39;49m A new release of pip is available: \u001b[0m\u001b[31;49m24.0\u001b[0m\u001b[39;49m -> \u001b[0m\u001b[32;49m25.2\u001b[0m\n",
      "\u001b[1m[\u001b[0m\u001b[34;49mnotice\u001b[0m\u001b[1;39;49m]\u001b[0m\u001b[39;49m To update, run: \u001b[0m\u001b[32;49mpip install --upgrade pip\u001b[0m\n",
      "Note: you may need to restart the kernel to use updated packages.\n"
     ]
    }
   ],
   "source": [
    "%pip install pandas numpy matplotlib seaborn scikit-learn==1.5.2 category_encoders imbalanced-learn joblib scipy"
   ]
  },
  {
   "cell_type": "code",
   "execution_count": 33,
   "metadata": {},
   "outputs": [
    {
     "name": "stdout",
     "output_type": "stream",
     "text": [
      "Librerias importadas correctamente\n",
      "Pandas version: 2.3.3\n",
      "NumPy version: 2.3.4\n"
     ]
    }
   ],
   "source": [
    "# Librerias basicas\n",
    "import pandas as pd\n",
    "import numpy as np\n",
    "import os\n",
    "import warnings\n",
    "warnings.filterwarnings('ignore')\n",
    "\n",
    "# Visualizacion\n",
    "import matplotlib.pyplot as plt\n",
    "import seaborn as sns\n",
    "plt.style.use('seaborn-v0_8-darkgrid')\n",
    "sns.set_palette(\"husl\")\n",
    "\n",
    "# Preprocesamiento\n",
    "from sklearn.preprocessing import MinMaxScaler, StandardScaler\n",
    "from category_encoders import TargetEncoder\n",
    "from imblearn.over_sampling import SMOTE\n",
    "import joblib\n",
    "\n",
    "# Estadisticas\n",
    "from scipy import stats\n",
    "\n",
    "print(\"Librerias importadas correctamente\")\n",
    "print(f\"Pandas version: {pd.__version__}\")\n",
    "print(f\"NumPy version: {np.__version__}\")"
   ]
  },
  {
   "cell_type": "code",
   "execution_count": 34,
   "metadata": {},
   "outputs": [
    {
     "name": "stdout",
     "output_type": "stream",
     "text": [
      "Configuracion establecida\n",
      "Ruta de datos: data/01_raw/\n",
      "Ruta de salida: data/processed/\n",
      "Fecha de corte: 2023-01-01\n"
     ]
    }
   ],
   "source": [
    "# Configuracion\n",
    "BASE_PATH = \"data/01_raw/\"\n",
    "OUTPUT_PATH = \"data/processed/\"\n",
    "SPLIT_DATE = '2023-01-01'  # Train: hasta 2022, Test: 2023+\n",
    "\n",
    "# Crear directorio de salida\n",
    "os.makedirs(OUTPUT_PATH, exist_ok=True)\n",
    "\n",
    "# Configuracion de visualizacion\n",
    "plt.rcParams['figure.figsize'] = (12, 6)\n",
    "plt.rcParams['font.size'] = 10\n",
    "\n",
    "print(\"Configuracion establecida\")\n",
    "print(f\"Ruta de datos: {BASE_PATH}\")\n",
    "print(f\"Ruta de salida: {OUTPUT_PATH}\")\n",
    "print(f\"Fecha de corte: {SPLIT_DATE}\")"
   ]
  },
  {
   "cell_type": "markdown",
   "metadata": {},
   "source": [
    "---\n",
    "## 2. Carga de Datos y Exploracion Inicial"
   ]
  },
  {
   "cell_type": "code",
   "execution_count": 35,
   "metadata": {},
   "outputs": [
    {
     "name": "stdout",
     "output_type": "stream",
     "text": [
      "Cargando datasets...\n",
      "\n",
      "Datos cargados:\n",
      "  Race_Results: 26,519 registros, 18 columnas\n",
      "  Qualifying: 10,254 registros, 9 columnas\n",
      "  Races: 1,125 registros, 18 columnas\n",
      "  Drivers: 859 registros, 9 columnas\n",
      "  Constructors: 212 registros, 5 columnas\n",
      "  Circuits: 77 registros, 9 columnas\n"
     ]
    }
   ],
   "source": [
    "# Cargar datasets\n",
    "print(\"Cargando datasets...\")\n",
    "\n",
    "race_results = pd.read_csv(f'{BASE_PATH}Race_Results.csv', na_values=['\\\\N'])\n",
    "qualifying = pd.read_csv(f'{BASE_PATH}Qualifying_Results.csv', na_values=['\\\\N'])\n",
    "races = pd.read_csv(f'{BASE_PATH}Race_Schedule.csv', na_values=['\\\\N'])\n",
    "drivers = pd.read_csv(f'{BASE_PATH}Driver_Details.csv', na_values=['\\\\N'])\n",
    "constructors = pd.read_csv(f'{BASE_PATH}Team_Details.csv', na_values=['\\\\N'])\n",
    "circuits = pd.read_csv(f'{BASE_PATH}Track_Information.csv', na_values=['\\\\N'])\n",
    "\n",
    "print(\"\\nDatos cargados:\")\n",
    "print(f\"  Race_Results: {len(race_results):,} registros, {len(race_results.columns)} columnas\")\n",
    "print(f\"  Qualifying: {len(qualifying):,} registros, {len(qualifying.columns)} columnas\")\n",
    "print(f\"  Races: {len(races):,} registros, {len(races.columns)} columnas\")\n",
    "print(f\"  Drivers: {len(drivers):,} registros, {len(drivers.columns)} columnas\")\n",
    "print(f\"  Constructors: {len(constructors):,} registros, {len(constructors.columns)} columnas\")\n",
    "print(f\"  Circuits: {len(circuits):,} registros, {len(circuits.columns)} columnas\")"
   ]
  },
  {
   "cell_type": "markdown",
   "metadata": {},
   "source": [
    "### 2.1 Exploracion de Race Results (Dataset Principal)"
   ]
  },
  {
   "cell_type": "code",
   "execution_count": 36,
   "metadata": {},
   "outputs": [
    {
     "name": "stdout",
     "output_type": "stream",
     "text": [
      "Primeras 5 filas de Race_Results:\n"
     ]
    },
    {
     "data": {
      "text/html": [
       "<div>\n",
       "<style scoped>\n",
       "    .dataframe tbody tr th:only-of-type {\n",
       "        vertical-align: middle;\n",
       "    }\n",
       "\n",
       "    .dataframe tbody tr th {\n",
       "        vertical-align: top;\n",
       "    }\n",
       "\n",
       "    .dataframe thead th {\n",
       "        text-align: right;\n",
       "    }\n",
       "</style>\n",
       "<table border=\"1\" class=\"dataframe\">\n",
       "  <thead>\n",
       "    <tr style=\"text-align: right;\">\n",
       "      <th></th>\n",
       "      <th>resultId</th>\n",
       "      <th>raceId</th>\n",
       "      <th>driverId</th>\n",
       "      <th>constructorId</th>\n",
       "      <th>number</th>\n",
       "      <th>grid</th>\n",
       "      <th>position</th>\n",
       "      <th>positionText</th>\n",
       "      <th>positionOrder</th>\n",
       "      <th>points</th>\n",
       "      <th>laps</th>\n",
       "      <th>time</th>\n",
       "      <th>milliseconds</th>\n",
       "      <th>fastestLap</th>\n",
       "      <th>rank</th>\n",
       "      <th>fastestLapTime</th>\n",
       "      <th>fastestLapSpeed</th>\n",
       "      <th>statusId</th>\n",
       "    </tr>\n",
       "  </thead>\n",
       "  <tbody>\n",
       "    <tr>\n",
       "      <th>0</th>\n",
       "      <td>1</td>\n",
       "      <td>18</td>\n",
       "      <td>1</td>\n",
       "      <td>1</td>\n",
       "      <td>22.0</td>\n",
       "      <td>1</td>\n",
       "      <td>1.0</td>\n",
       "      <td>1</td>\n",
       "      <td>1</td>\n",
       "      <td>10.0</td>\n",
       "      <td>58</td>\n",
       "      <td>1:34:50.616</td>\n",
       "      <td>5690616.0</td>\n",
       "      <td>39.0</td>\n",
       "      <td>2.0</td>\n",
       "      <td>1:27.452</td>\n",
       "      <td>218.300</td>\n",
       "      <td>1</td>\n",
       "    </tr>\n",
       "    <tr>\n",
       "      <th>1</th>\n",
       "      <td>2</td>\n",
       "      <td>18</td>\n",
       "      <td>2</td>\n",
       "      <td>2</td>\n",
       "      <td>3.0</td>\n",
       "      <td>5</td>\n",
       "      <td>2.0</td>\n",
       "      <td>2</td>\n",
       "      <td>2</td>\n",
       "      <td>8.0</td>\n",
       "      <td>58</td>\n",
       "      <td>+5.478</td>\n",
       "      <td>5696094.0</td>\n",
       "      <td>41.0</td>\n",
       "      <td>3.0</td>\n",
       "      <td>1:27.739</td>\n",
       "      <td>217.586</td>\n",
       "      <td>1</td>\n",
       "    </tr>\n",
       "    <tr>\n",
       "      <th>2</th>\n",
       "      <td>3</td>\n",
       "      <td>18</td>\n",
       "      <td>3</td>\n",
       "      <td>3</td>\n",
       "      <td>7.0</td>\n",
       "      <td>7</td>\n",
       "      <td>3.0</td>\n",
       "      <td>3</td>\n",
       "      <td>3</td>\n",
       "      <td>6.0</td>\n",
       "      <td>58</td>\n",
       "      <td>+8.163</td>\n",
       "      <td>5698779.0</td>\n",
       "      <td>41.0</td>\n",
       "      <td>5.0</td>\n",
       "      <td>1:28.090</td>\n",
       "      <td>216.719</td>\n",
       "      <td>1</td>\n",
       "    </tr>\n",
       "    <tr>\n",
       "      <th>3</th>\n",
       "      <td>4</td>\n",
       "      <td>18</td>\n",
       "      <td>4</td>\n",
       "      <td>4</td>\n",
       "      <td>5.0</td>\n",
       "      <td>11</td>\n",
       "      <td>4.0</td>\n",
       "      <td>4</td>\n",
       "      <td>4</td>\n",
       "      <td>5.0</td>\n",
       "      <td>58</td>\n",
       "      <td>+17.181</td>\n",
       "      <td>5707797.0</td>\n",
       "      <td>58.0</td>\n",
       "      <td>7.0</td>\n",
       "      <td>1:28.603</td>\n",
       "      <td>215.464</td>\n",
       "      <td>1</td>\n",
       "    </tr>\n",
       "    <tr>\n",
       "      <th>4</th>\n",
       "      <td>5</td>\n",
       "      <td>18</td>\n",
       "      <td>5</td>\n",
       "      <td>1</td>\n",
       "      <td>23.0</td>\n",
       "      <td>3</td>\n",
       "      <td>5.0</td>\n",
       "      <td>5</td>\n",
       "      <td>5</td>\n",
       "      <td>4.0</td>\n",
       "      <td>58</td>\n",
       "      <td>+18.014</td>\n",
       "      <td>5708630.0</td>\n",
       "      <td>43.0</td>\n",
       "      <td>1.0</td>\n",
       "      <td>1:27.418</td>\n",
       "      <td>218.385</td>\n",
       "      <td>1</td>\n",
       "    </tr>\n",
       "  </tbody>\n",
       "</table>\n",
       "</div>"
      ],
      "text/plain": [
       "   resultId  raceId  driverId  constructorId  number  grid  position  \\\n",
       "0         1      18         1              1    22.0     1       1.0   \n",
       "1         2      18         2              2     3.0     5       2.0   \n",
       "2         3      18         3              3     7.0     7       3.0   \n",
       "3         4      18         4              4     5.0    11       4.0   \n",
       "4         5      18         5              1    23.0     3       5.0   \n",
       "\n",
       "  positionText  positionOrder  points  laps         time  milliseconds  \\\n",
       "0            1              1    10.0    58  1:34:50.616     5690616.0   \n",
       "1            2              2     8.0    58       +5.478     5696094.0   \n",
       "2            3              3     6.0    58       +8.163     5698779.0   \n",
       "3            4              4     5.0    58      +17.181     5707797.0   \n",
       "4            5              5     4.0    58      +18.014     5708630.0   \n",
       "\n",
       "   fastestLap  rank fastestLapTime  fastestLapSpeed  statusId  \n",
       "0        39.0   2.0       1:27.452          218.300         1  \n",
       "1        41.0   3.0       1:27.739          217.586         1  \n",
       "2        41.0   5.0       1:28.090          216.719         1  \n",
       "3        58.0   7.0       1:28.603          215.464         1  \n",
       "4        43.0   1.0       1:27.418          218.385         1  "
      ]
     },
     "metadata": {},
     "output_type": "display_data"
    },
    {
     "name": "stdout",
     "output_type": "stream",
     "text": [
      "\n",
      "Informacion del dataset:\n",
      "<class 'pandas.core.frame.DataFrame'>\n",
      "RangeIndex: 26519 entries, 0 to 26518\n",
      "Data columns (total 18 columns):\n",
      " #   Column           Non-Null Count  Dtype  \n",
      "---  ------           --------------  -----  \n",
      " 0   resultId         26519 non-null  int64  \n",
      " 1   raceId           26519 non-null  int64  \n",
      " 2   driverId         26519 non-null  int64  \n",
      " 3   constructorId    26519 non-null  int64  \n",
      " 4   number           26513 non-null  float64\n",
      " 5   grid             26519 non-null  int64  \n",
      " 6   position         15591 non-null  float64\n",
      " 7   positionText     26519 non-null  object \n",
      " 8   positionOrder    26519 non-null  int64  \n",
      " 9   points           26519 non-null  float64\n",
      " 10  laps             26519 non-null  int64  \n",
      " 11  time             7533 non-null   object \n",
      " 12  milliseconds     7533 non-null   float64\n",
      " 13  fastestLap       8020 non-null   float64\n",
      " 14  rank             8270 non-null   float64\n",
      " 15  fastestLapTime   8020 non-null   object \n",
      " 16  fastestLapSpeed  8020 non-null   float64\n",
      " 17  statusId         26519 non-null  int64  \n",
      "dtypes: float64(7), int64(8), object(3)\n",
      "memory usage: 3.6+ MB\n"
     ]
    }
   ],
   "source": [
    "# Primeras filas\n",
    "print(\"Primeras 5 filas de Race_Results:\")\n",
    "display(race_results.head())\n",
    "\n",
    "print(\"\\nInformacion del dataset:\")\n",
    "race_results.info()"
   ]
  },
  {
   "cell_type": "code",
   "execution_count": 37,
   "metadata": {},
   "outputs": [
    {
     "name": "stdout",
     "output_type": "stream",
     "text": [
      "Estadisticas descriptivas de variables numericas:\n"
     ]
    },
    {
     "data": {
      "text/html": [
       "<div>\n",
       "<style scoped>\n",
       "    .dataframe tbody tr th:only-of-type {\n",
       "        vertical-align: middle;\n",
       "    }\n",
       "\n",
       "    .dataframe tbody tr th {\n",
       "        vertical-align: top;\n",
       "    }\n",
       "\n",
       "    .dataframe thead th {\n",
       "        text-align: right;\n",
       "    }\n",
       "</style>\n",
       "<table border=\"1\" class=\"dataframe\">\n",
       "  <thead>\n",
       "    <tr style=\"text-align: right;\">\n",
       "      <th></th>\n",
       "      <th>resultId</th>\n",
       "      <th>raceId</th>\n",
       "      <th>driverId</th>\n",
       "      <th>constructorId</th>\n",
       "      <th>number</th>\n",
       "      <th>grid</th>\n",
       "      <th>position</th>\n",
       "      <th>positionOrder</th>\n",
       "      <th>points</th>\n",
       "      <th>laps</th>\n",
       "      <th>milliseconds</th>\n",
       "      <th>fastestLap</th>\n",
       "      <th>rank</th>\n",
       "      <th>fastestLapSpeed</th>\n",
       "      <th>statusId</th>\n",
       "    </tr>\n",
       "  </thead>\n",
       "  <tbody>\n",
       "    <tr>\n",
       "      <th>count</th>\n",
       "      <td>26519.000000</td>\n",
       "      <td>26519.000000</td>\n",
       "      <td>26519.000000</td>\n",
       "      <td>26519.000000</td>\n",
       "      <td>26513.000000</td>\n",
       "      <td>26519.000000</td>\n",
       "      <td>15591.000000</td>\n",
       "      <td>26519.000000</td>\n",
       "      <td>26519.000000</td>\n",
       "      <td>26519.000000</td>\n",
       "      <td>7.533000e+03</td>\n",
       "      <td>8020.000000</td>\n",
       "      <td>8270.000000</td>\n",
       "      <td>8020.000000</td>\n",
       "      <td>26519.000000</td>\n",
       "    </tr>\n",
       "    <tr>\n",
       "      <th>mean</th>\n",
       "      <td>13260.940986</td>\n",
       "      <td>546.376560</td>\n",
       "      <td>274.357291</td>\n",
       "      <td>49.801161</td>\n",
       "      <td>18.047712</td>\n",
       "      <td>11.145820</td>\n",
       "      <td>7.999743</td>\n",
       "      <td>12.814812</td>\n",
       "      <td>1.959578</td>\n",
       "      <td>46.228251</td>\n",
       "      <td>6.208717e+06</td>\n",
       "      <td>42.616708</td>\n",
       "      <td>10.348489</td>\n",
       "      <td>203.924284</td>\n",
       "      <td>17.317056</td>\n",
       "    </tr>\n",
       "    <tr>\n",
       "      <th>std</th>\n",
       "      <td>7656.813206</td>\n",
       "      <td>309.642244</td>\n",
       "      <td>279.275606</td>\n",
       "      <td>61.091426</td>\n",
       "      <td>15.455819</td>\n",
       "      <td>7.213453</td>\n",
       "      <td>4.831278</td>\n",
       "      <td>7.677869</td>\n",
       "      <td>4.306475</td>\n",
       "      <td>29.577860</td>\n",
       "      <td>1.653592e+06</td>\n",
       "      <td>16.662498</td>\n",
       "      <td>6.149817</td>\n",
       "      <td>21.358410</td>\n",
       "      <td>26.081700</td>\n",
       "    </tr>\n",
       "    <tr>\n",
       "      <th>min</th>\n",
       "      <td>1.000000</td>\n",
       "      <td>1.000000</td>\n",
       "      <td>1.000000</td>\n",
       "      <td>1.000000</td>\n",
       "      <td>0.000000</td>\n",
       "      <td>0.000000</td>\n",
       "      <td>1.000000</td>\n",
       "      <td>1.000000</td>\n",
       "      <td>0.000000</td>\n",
       "      <td>0.000000</td>\n",
       "      <td>2.070710e+05</td>\n",
       "      <td>1.000000</td>\n",
       "      <td>0.000000</td>\n",
       "      <td>89.540000</td>\n",
       "      <td>1.000000</td>\n",
       "    </tr>\n",
       "    <tr>\n",
       "      <th>25%</th>\n",
       "      <td>6630.500000</td>\n",
       "      <td>298.000000</td>\n",
       "      <td>57.000000</td>\n",
       "      <td>6.000000</td>\n",
       "      <td>7.000000</td>\n",
       "      <td>5.000000</td>\n",
       "      <td>4.000000</td>\n",
       "      <td>6.000000</td>\n",
       "      <td>0.000000</td>\n",
       "      <td>23.000000</td>\n",
       "      <td>5.383181e+06</td>\n",
       "      <td>33.000000</td>\n",
       "      <td>5.000000</td>\n",
       "      <td>193.367000</td>\n",
       "      <td>1.000000</td>\n",
       "    </tr>\n",
       "    <tr>\n",
       "      <th>50%</th>\n",
       "      <td>13260.000000</td>\n",
       "      <td>527.000000</td>\n",
       "      <td>170.000000</td>\n",
       "      <td>25.000000</td>\n",
       "      <td>16.000000</td>\n",
       "      <td>11.000000</td>\n",
       "      <td>7.000000</td>\n",
       "      <td>12.000000</td>\n",
       "      <td>0.000000</td>\n",
       "      <td>53.000000</td>\n",
       "      <td>5.796882e+06</td>\n",
       "      <td>46.000000</td>\n",
       "      <td>10.000000</td>\n",
       "      <td>204.935000</td>\n",
       "      <td>10.000000</td>\n",
       "    </tr>\n",
       "    <tr>\n",
       "      <th>75%</th>\n",
       "      <td>19889.500000</td>\n",
       "      <td>803.000000</td>\n",
       "      <td>385.000000</td>\n",
       "      <td>60.000000</td>\n",
       "      <td>24.000000</td>\n",
       "      <td>17.000000</td>\n",
       "      <td>11.000000</td>\n",
       "      <td>18.000000</td>\n",
       "      <td>2.000000</td>\n",
       "      <td>66.000000</td>\n",
       "      <td>6.415351e+06</td>\n",
       "      <td>54.000000</td>\n",
       "      <td>15.000000</td>\n",
       "      <td>217.108750</td>\n",
       "      <td>14.000000</td>\n",
       "    </tr>\n",
       "    <tr>\n",
       "      <th>max</th>\n",
       "      <td>26524.000000</td>\n",
       "      <td>1132.000000</td>\n",
       "      <td>860.000000</td>\n",
       "      <td>215.000000</td>\n",
       "      <td>208.000000</td>\n",
       "      <td>34.000000</td>\n",
       "      <td>33.000000</td>\n",
       "      <td>39.000000</td>\n",
       "      <td>50.000000</td>\n",
       "      <td>200.000000</td>\n",
       "      <td>1.509054e+07</td>\n",
       "      <td>85.000000</td>\n",
       "      <td>24.000000</td>\n",
       "      <td>257.320000</td>\n",
       "      <td>141.000000</td>\n",
       "    </tr>\n",
       "  </tbody>\n",
       "</table>\n",
       "</div>"
      ],
      "text/plain": [
       "           resultId        raceId      driverId  constructorId        number  \\\n",
       "count  26519.000000  26519.000000  26519.000000   26519.000000  26513.000000   \n",
       "mean   13260.940986    546.376560    274.357291      49.801161     18.047712   \n",
       "std     7656.813206    309.642244    279.275606      61.091426     15.455819   \n",
       "min        1.000000      1.000000      1.000000       1.000000      0.000000   \n",
       "25%     6630.500000    298.000000     57.000000       6.000000      7.000000   \n",
       "50%    13260.000000    527.000000    170.000000      25.000000     16.000000   \n",
       "75%    19889.500000    803.000000    385.000000      60.000000     24.000000   \n",
       "max    26524.000000   1132.000000    860.000000     215.000000    208.000000   \n",
       "\n",
       "               grid      position  positionOrder        points          laps  \\\n",
       "count  26519.000000  15591.000000   26519.000000  26519.000000  26519.000000   \n",
       "mean      11.145820      7.999743      12.814812      1.959578     46.228251   \n",
       "std        7.213453      4.831278       7.677869      4.306475     29.577860   \n",
       "min        0.000000      1.000000       1.000000      0.000000      0.000000   \n",
       "25%        5.000000      4.000000       6.000000      0.000000     23.000000   \n",
       "50%       11.000000      7.000000      12.000000      0.000000     53.000000   \n",
       "75%       17.000000     11.000000      18.000000      2.000000     66.000000   \n",
       "max       34.000000     33.000000      39.000000     50.000000    200.000000   \n",
       "\n",
       "       milliseconds   fastestLap         rank  fastestLapSpeed      statusId  \n",
       "count  7.533000e+03  8020.000000  8270.000000      8020.000000  26519.000000  \n",
       "mean   6.208717e+06    42.616708    10.348489       203.924284     17.317056  \n",
       "std    1.653592e+06    16.662498     6.149817        21.358410     26.081700  \n",
       "min    2.070710e+05     1.000000     0.000000        89.540000      1.000000  \n",
       "25%    5.383181e+06    33.000000     5.000000       193.367000      1.000000  \n",
       "50%    5.796882e+06    46.000000    10.000000       204.935000     10.000000  \n",
       "75%    6.415351e+06    54.000000    15.000000       217.108750     14.000000  \n",
       "max    1.509054e+07    85.000000    24.000000       257.320000    141.000000  "
      ]
     },
     "metadata": {},
     "output_type": "display_data"
    }
   ],
   "source": [
    "# Estadisticas descriptivas\n",
    "print(\"Estadisticas descriptivas de variables numericas:\")\n",
    "display(race_results.describe())"
   ]
  },
  {
   "cell_type": "markdown",
   "metadata": {},
   "source": [
    "### 2.2 Analisis de Valores Faltantes"
   ]
  },
  {
   "cell_type": "code",
   "execution_count": 38,
   "metadata": {},
   "outputs": [
    {
     "name": "stdout",
     "output_type": "stream",
     "text": [
      "\n",
      "Columnas con valores faltantes: 8\n"
     ]
    },
    {
     "data": {
      "text/html": [
       "<div>\n",
       "<style scoped>\n",
       "    .dataframe tbody tr th:only-of-type {\n",
       "        vertical-align: middle;\n",
       "    }\n",
       "\n",
       "    .dataframe tbody tr th {\n",
       "        vertical-align: top;\n",
       "    }\n",
       "\n",
       "    .dataframe thead th {\n",
       "        text-align: right;\n",
       "    }\n",
       "</style>\n",
       "<table border=\"1\" class=\"dataframe\">\n",
       "  <thead>\n",
       "    <tr style=\"text-align: right;\">\n",
       "      <th></th>\n",
       "      <th>Columna</th>\n",
       "      <th>Faltantes</th>\n",
       "      <th>Porcentaje</th>\n",
       "    </tr>\n",
       "  </thead>\n",
       "  <tbody>\n",
       "    <tr>\n",
       "      <th>time</th>\n",
       "      <td>time</td>\n",
       "      <td>18986</td>\n",
       "      <td>71.59</td>\n",
       "    </tr>\n",
       "    <tr>\n",
       "      <th>milliseconds</th>\n",
       "      <td>milliseconds</td>\n",
       "      <td>18986</td>\n",
       "      <td>71.59</td>\n",
       "    </tr>\n",
       "    <tr>\n",
       "      <th>fastestLapSpeed</th>\n",
       "      <td>fastestLapSpeed</td>\n",
       "      <td>18499</td>\n",
       "      <td>69.76</td>\n",
       "    </tr>\n",
       "    <tr>\n",
       "      <th>fastestLap</th>\n",
       "      <td>fastestLap</td>\n",
       "      <td>18499</td>\n",
       "      <td>69.76</td>\n",
       "    </tr>\n",
       "    <tr>\n",
       "      <th>fastestLapTime</th>\n",
       "      <td>fastestLapTime</td>\n",
       "      <td>18499</td>\n",
       "      <td>69.76</td>\n",
       "    </tr>\n",
       "    <tr>\n",
       "      <th>rank</th>\n",
       "      <td>rank</td>\n",
       "      <td>18249</td>\n",
       "      <td>68.81</td>\n",
       "    </tr>\n",
       "    <tr>\n",
       "      <th>position</th>\n",
       "      <td>position</td>\n",
       "      <td>10928</td>\n",
       "      <td>41.21</td>\n",
       "    </tr>\n",
       "    <tr>\n",
       "      <th>number</th>\n",
       "      <td>number</td>\n",
       "      <td>6</td>\n",
       "      <td>0.02</td>\n",
       "    </tr>\n",
       "  </tbody>\n",
       "</table>\n",
       "</div>"
      ],
      "text/plain": [
       "                         Columna  Faltantes  Porcentaje\n",
       "time                        time      18986       71.59\n",
       "milliseconds        milliseconds      18986       71.59\n",
       "fastestLapSpeed  fastestLapSpeed      18499       69.76\n",
       "fastestLap            fastestLap      18499       69.76\n",
       "fastestLapTime    fastestLapTime      18499       69.76\n",
       "rank                        rank      18249       68.81\n",
       "position                position      10928       41.21\n",
       "number                    number          6        0.02"
      ]
     },
     "metadata": {},
     "output_type": "display_data"
    }
   ],
   "source": [
    "# Calcular porcentaje de valores faltantes\n",
    "missing_data = pd.DataFrame({\n",
    "    'Columna': race_results.columns,\n",
    "    'Faltantes': race_results.isnull().sum(),\n",
    "    'Porcentaje': (race_results.isnull().sum() / len(race_results) * 100).round(2)\n",
    "}).sort_values('Porcentaje', ascending=False)\n",
    "\n",
    "missing_data = missing_data[missing_data['Faltantes'] > 0]\n",
    "\n",
    "print(f\"\\nColumnas con valores faltantes: {len(missing_data)}\")\n",
    "display(missing_data)"
   ]
  },
  {
   "cell_type": "code",
   "execution_count": 39,
   "metadata": {},
   "outputs": [
    {
     "data": {
      "image/png": "[encoded data removed]",
      "text/plain": [
       "<Figure size 1200x600 with 1 Axes>"
      ]
     },
     "metadata": {},
     "output_type": "display_data"
    }
   ],
   "source": [
    "# Visualizacion de valores faltantes\n",
    "if len(missing_data) > 0:\n",
    "    fig, ax = plt.subplots(figsize=(12, 6))\n",
    "    \n",
    "    # Grafico de barras horizontal\n",
    "    missing_data_sorted = missing_data.sort_values('Porcentaje')\n",
    "    ax.barh(missing_data_sorted['Columna'], missing_data_sorted['Porcentaje'], color='coral')\n",
    "    \n",
    "    ax.set_xlabel('Porcentaje de Valores Faltantes (%)', fontsize=12)\n",
    "    ax.set_title('Analisis de Valores Faltantes en Race Results', fontsize=14, fontweight='bold')\n",
    "    ax.grid(axis='x', alpha=0.3)\n",
    "    \n",
    "    plt.tight_layout()\n",
    "    plt.show()\n",
    "else:\n",
    "    print(\"No hay valores faltantes en el dataset\")"
   ]
  },
  {
   "cell_type": "markdown",
   "metadata": {},
   "source": [
    "### 2.3 Filtrado de Registros Validos\n",
    "\n",
    "**Criterio**: Solo incluir pilotos que terminaron la carrera (con posicion valida). Esto excluye:\n",
    "- Pilotos retirados (DNF)\n",
    "- Pilotos descalificados\n",
    "- Registros sin posicion"
   ]
  },
  {
   "cell_type": "code",
   "execution_count": 40,
   "metadata": {},
   "outputs": [
    {
     "name": "stdout",
     "output_type": "stream",
     "text": [
      "Registros ANTES del filtro: 26,519\n",
      "Registros DESPUES del filtro: 15,591\n",
      "Registros eliminados: 10,928 (41.21%)\n"
     ]
    },
    {
     "data": {
      "image/png": "[encoded data removed]",
      "text/plain": [
       "<Figure size 800x500 with 1 Axes>"
      ]
     },
     "metadata": {},
     "output_type": "display_data"
    }
   ],
   "source": [
    "print(f\"Registros ANTES del filtro: {len(race_results):,}\")\n",
    "\n",
    "# Filtrar solo registros con posicion valida\n",
    "race_results_filtered = race_results[race_results['position'].notna()].copy()\n",
    "\n",
    "print(f\"Registros DESPUES del filtro: {len(race_results_filtered):,}\")\n",
    "print(f\"Registros eliminados: {len(race_results) - len(race_results_filtered):,} ({100 * (len(race_results) - len(race_results_filtered)) / len(race_results):.2f}%)\")\n",
    "\n",
    "# Visualizacion\n",
    "fig, ax = plt.subplots(figsize=(8, 5))\n",
    "categories = ['Antes del Filtro', 'Despues del Filtro', 'Eliminados']\n",
    "values = [\n",
    "    len(race_results),\n",
    "    len(race_results_filtered),\n",
    "    len(race_results) - len(race_results_filtered)\n",
    "]\n",
    "colors = ['steelblue', 'green', 'coral']\n",
    "\n",
    "ax.bar(categories, values, color=colors, alpha=0.7, edgecolor='black')\n",
    "ax.set_ylabel('Numero de Registros', fontsize=12)\n",
    "ax.set_title('Filtracion de Registros con Posicion Valida', fontsize=14, fontweight='bold')\n",
    "ax.grid(axis='y', alpha=0.3)\n",
    "\n",
    "# Agregar valores en las barras\n",
    "for i, v in enumerate(values):\n",
    "    ax.text(i, v + 500, f'{v:,}', ha='center', fontsize=10, fontweight='bold')\n",
    "\n",
    "plt.tight_layout()\n",
    "plt.show()"
   ]
  },
  {
   "cell_type": "markdown",
   "metadata": {},
   "source": [
    "---\n",
    "## 3. Creacion de Variable Target: `is_podium`\n",
    "\n",
    "**Definicion**: Un piloto logra podio si termina en posicion 1, 2 o 3.\n",
    "- `is_podium = 1`: Posicion <= 3\n",
    "- `is_podium = 0`: Posicion > 3"
   ]
  },
  {
   "cell_type": "code",
   "execution_count": 41,
   "metadata": {},
   "outputs": [
    {
     "name": "stdout",
     "output_type": "stream",
     "text": [
      "Variable 'is_podium' creada exitosamente\n",
      "\n",
      "Distribucion de la variable target:\n",
      "is_podium\n",
      "0    12231\n",
      "1     3360\n",
      "Name: count, dtype: int64\n"
     ]
    }
   ],
   "source": [
    "# Crear variable target\n",
    "race_results_filtered['is_podium'] = (race_results_filtered['position'] <= 3).astype(int)\n",
    "\n",
    "# Guardar posicion original para features derivadas\n",
    "race_results_filtered['position_original'] = race_results_filtered['position']\n",
    "\n",
    "print(\"Variable 'is_podium' creada exitosamente\")\n",
    "print(\"\\nDistribucion de la variable target:\")\n",
    "print(race_results_filtered['is_podium'].value_counts())"
   ]
  },
  {
   "cell_type": "markdown",
   "metadata": {},
   "source": [
    "### 3.1 Analisis de Balance de Clases"
   ]
  },
  {
   "cell_type": "code",
   "execution_count": 42,
   "metadata": {},
   "outputs": [
    {
     "name": "stdout",
     "output_type": "stream",
     "text": [
      "Balance de Clases:\n",
      "  Clase 0 (No Podio): 12,231 registros (78.45%)\n",
      "  Clase 1 (Podio): 3,360 registros (21.55%)\n",
      "\n",
      "Ratio de desbalance: 1:3.64\n",
      "\n",
      "Interpretacion: Por cada piloto que logra podio, hay 3.6 pilotos que NO logran podio\n"
     ]
    }
   ],
   "source": [
    "# Calcular balance\n",
    "podium_counts = race_results_filtered['is_podium'].value_counts()\n",
    "podium_pcts = race_results_filtered['is_podium'].value_counts(normalize=True) * 100\n",
    "\n",
    "print(\"Balance de Clases:\")\n",
    "print(f\"  Clase 0 (No Podio): {podium_counts[0]:,} registros ({podium_pcts[0]:.2f}%)\")\n",
    "print(f\"  Clase 1 (Podio): {podium_counts[1]:,} registros ({podium_pcts[1]:.2f}%)\")\n",
    "print(f\"\\nRatio de desbalance: 1:{podium_counts[0]/podium_counts[1]:.2f}\")\n",
    "print(f\"\\nInterpretacion: Por cada piloto que logra podio, hay {podium_counts[0]/podium_counts[1]:.1f} pilotos que NO logran podio\")"
   ]
  },
  {
   "cell_type": "code",
   "execution_count": 43,
   "metadata": {},
   "outputs": [
    {
     "data": {
      "image/png": "[encoded data removed]",
      "text/plain": [
       "<Figure size 1400x500 with 2 Axes>"
      ]
     },
     "metadata": {},
     "output_type": "display_data"
    },
    {
     "name": "stdout",
     "output_type": "stream",
     "text": [
      "\n",
      "CONCLUSION: Existe un DESBALANCE SIGNIFICATIVO (78% vs 22%)\n",
      "Estrategias a aplicar: SMOTE, class_weight, scale_pos_weight\n"
     ]
    }
   ],
   "source": [
    "# Visualizacion del balance\n",
    "fig, axes = plt.subplots(1, 2, figsize=(14, 5))\n",
    "\n",
    "# Grafico de barras\n",
    "colors_bar = ['#FF6B6B', '#4ECDC4']\n",
    "axes[0].bar(['No Podio (0)', 'Podio (1)'], podium_counts.values, color=colors_bar, alpha=0.7, edgecolor='black')\n",
    "axes[0].set_ylabel('Numero de Registros', fontsize=12)\n",
    "axes[0].set_title('Distribucion de Clases: Balance', fontsize=14, fontweight='bold')\n",
    "axes[0].grid(axis='y', alpha=0.3)\n",
    "\n",
    "# Agregar valores\n",
    "for i, v in enumerate(podium_counts.values):\n",
    "    axes[0].text(i, v + 200, f'{v:,}\\n({podium_pcts.values[i]:.1f}%)', ha='center', fontsize=11, fontweight='bold')\n",
    "\n",
    "# Grafico de torta\n",
    "colors_pie = ['#FF6B6B', '#4ECDC4']\n",
    "explode = (0.05, 0)\n",
    "axes[1].pie(podium_counts.values, \n",
    "           labels=['No Podio (0)', 'Podio (1)'],\n",
    "           autopct='%1.1f%%',\n",
    "           colors=colors_pie,\n",
    "           explode=explode,\n",
    "           shadow=True,\n",
    "           startangle=90,\n",
    "           textprops={'fontsize': 11, 'fontweight': 'bold'})\n",
    "axes[1].set_title('Proporcion de Clases', fontsize=14, fontweight='bold')\n",
    "\n",
    "plt.tight_layout()\n",
    "plt.show()\n",
    "\n",
    "print(\"\\nCONCLUSION: Existe un DESBALANCE SIGNIFICATIVO (78% vs 22%)\")\n",
    "print(\"Estrategias a aplicar: SMOTE, class_weight, scale_pos_weight\")"
   ]
  },
  {
   "cell_type": "markdown",
   "metadata": {},
   "source": [
    "---\n",
    "## 4. Identificacion y Eliminacion de Data Leakage\n",
    "\n",
    "**Data Leakage**: Variables que contienen informacion del futuro o que dependen directamente del resultado.\n",
    "\n",
    "### Variables a Eliminar (12 variables):\n",
    "1. `position`: Es el target transformado\n",
    "2. `positionOrder`: Equivalente a position\n",
    "3. `positionText`: Texto de position\n",
    "4. `points`: Depende de position\n",
    "5. `time`: Tiempo total de carrera\n",
    "6. `milliseconds`: Tiempo en ms\n",
    "7. `statusId`: Estado final (relacionado con abandonos)\n",
    "8. `laps`: Vueltas completadas\n",
    "9. `rank`: Ranking de vuelta rapida\n",
    "10. `fastestLapTime`: Tiempo de vuelta rapida\n",
    "11. `fastestLapSpeed`: Velocidad maxima\n",
    "12. `fastestLap`: Numero de vuelta rapida"
   ]
  },
  {
   "cell_type": "code",
   "execution_count": 44,
   "metadata": {},
   "outputs": [
    {
     "name": "stdout",
     "output_type": "stream",
     "text": [
      "Variables identificadas con data leakage: 12\n",
      "\n",
      "Listado:\n",
      "  1. position\n",
      "  2. positionOrder\n",
      "  3. positionText\n",
      "  4. points\n",
      "  5. time\n",
      "  6. milliseconds\n",
      "  7. statusId\n",
      "  8. laps\n",
      "  9. rank\n",
      "  10. fastestLapTime\n",
      "  11. fastestLapSpeed\n",
      "  12. fastestLap\n",
      "\n",
      "Variables eliminadas: 12\n",
      "Columnas restantes: 8\n"
     ]
    }
   ],
   "source": [
    "# Variables con data leakage\n",
    "leakage_vars = [\n",
    "    'position', 'positionOrder', 'positionText',\n",
    "    'points',\n",
    "    'time', 'milliseconds',\n",
    "    'statusId', 'laps',\n",
    "    'rank', 'fastestLapTime', 'fastestLapSpeed', 'fastestLap'\n",
    "]\n",
    "\n",
    "print(f\"Variables identificadas con data leakage: {len(leakage_vars)}\")\n",
    "print(\"\\nListado:\")\n",
    "for i, var in enumerate(leakage_vars, 1):\n",
    "    print(f\"  {i}. {var}\")\n",
    "\n",
    "# Eliminar variables (excepto position_original que guardamos)\n",
    "vars_to_drop = [v for v in leakage_vars if v in race_results_filtered.columns and v != 'position_original']\n",
    "race_results_filtered = race_results_filtered.drop(columns=vars_to_drop)\n",
    "\n",
    "print(f\"\\nVariables eliminadas: {len(vars_to_drop)}\")\n",
    "print(f\"Columnas restantes: {len(race_results_filtered.columns)}\")"
   ]
  },
  {
   "cell_type": "markdown",
   "metadata": {},
   "source": [
    "---\n",
    "## 5. Join de Tablas: Construccion del Dataset Completo"
   ]
  },
  {
   "cell_type": "code",
   "execution_count": 45,
   "metadata": {},
   "outputs": [
    {
     "name": "stdout",
     "output_type": "stream",
     "text": [
      "Realizando joins entre tablas...\n",
      "  Despues de join con races: 15591 registros, 13 columnas\n",
      "  Despues de join con qualifying: 15591 registros, 17 columnas\n",
      "  Despues de join con circuits: 15591 registros, 22 columnas\n",
      "  Despues de join con drivers: 15591 registros, 24 columnas\n",
      "\n",
      "Dataset FINAL despues de todos los joins:\n",
      "  Registros: 15,591\n",
      "  Columnas: 26\n",
      "\n",
      "Primeras 3 filas del dataset unificado:\n"
     ]
    },
    {
     "data": {
      "text/html": [
       "<div>\n",
       "<style scoped>\n",
       "    .dataframe tbody tr th:only-of-type {\n",
       "        vertical-align: middle;\n",
       "    }\n",
       "\n",
       "    .dataframe tbody tr th {\n",
       "        vertical-align: top;\n",
       "    }\n",
       "\n",
       "    .dataframe thead th {\n",
       "        text-align: right;\n",
       "    }\n",
       "</style>\n",
       "<table border=\"1\" class=\"dataframe\">\n",
       "  <thead>\n",
       "    <tr style=\"text-align: right;\">\n",
       "      <th></th>\n",
       "      <th>resultId</th>\n",
       "      <th>raceId</th>\n",
       "      <th>driverId</th>\n",
       "      <th>constructorId</th>\n",
       "      <th>number</th>\n",
       "      <th>grid</th>\n",
       "      <th>is_podium</th>\n",
       "      <th>position_original</th>\n",
       "      <th>year</th>\n",
       "      <th>circuitId</th>\n",
       "      <th>...</th>\n",
       "      <th>q3</th>\n",
       "      <th>lat</th>\n",
       "      <th>lng</th>\n",
       "      <th>alt</th>\n",
       "      <th>location</th>\n",
       "      <th>country</th>\n",
       "      <th>dob</th>\n",
       "      <th>nationality</th>\n",
       "      <th>name_constructor</th>\n",
       "      <th>nationality_constructor</th>\n",
       "    </tr>\n",
       "  </thead>\n",
       "  <tbody>\n",
       "    <tr>\n",
       "      <th>0</th>\n",
       "      <td>1</td>\n",
       "      <td>18</td>\n",
       "      <td>1</td>\n",
       "      <td>1</td>\n",
       "      <td>22.0</td>\n",
       "      <td>1</td>\n",
       "      <td>1</td>\n",
       "      <td>1.0</td>\n",
       "      <td>2008</td>\n",
       "      <td>1</td>\n",
       "      <td>...</td>\n",
       "      <td>1:26.714</td>\n",
       "      <td>-37.8497</td>\n",
       "      <td>144.968</td>\n",
       "      <td>10</td>\n",
       "      <td>Melbourne</td>\n",
       "      <td>Australia</td>\n",
       "      <td>1985-01-07</td>\n",
       "      <td>British</td>\n",
       "      <td>McLaren</td>\n",
       "      <td>British</td>\n",
       "    </tr>\n",
       "    <tr>\n",
       "      <th>1</th>\n",
       "      <td>2</td>\n",
       "      <td>18</td>\n",
       "      <td>2</td>\n",
       "      <td>2</td>\n",
       "      <td>3.0</td>\n",
       "      <td>5</td>\n",
       "      <td>1</td>\n",
       "      <td>2.0</td>\n",
       "      <td>2008</td>\n",
       "      <td>1</td>\n",
       "      <td>...</td>\n",
       "      <td>1:27.236</td>\n",
       "      <td>-37.8497</td>\n",
       "      <td>144.968</td>\n",
       "      <td>10</td>\n",
       "      <td>Melbourne</td>\n",
       "      <td>Australia</td>\n",
       "      <td>1977-05-10</td>\n",
       "      <td>German</td>\n",
       "      <td>BMW Sauber</td>\n",
       "      <td>German</td>\n",
       "    </tr>\n",
       "    <tr>\n",
       "      <th>2</th>\n",
       "      <td>3</td>\n",
       "      <td>18</td>\n",
       "      <td>3</td>\n",
       "      <td>3</td>\n",
       "      <td>7.0</td>\n",
       "      <td>7</td>\n",
       "      <td>1</td>\n",
       "      <td>3.0</td>\n",
       "      <td>2008</td>\n",
       "      <td>1</td>\n",
       "      <td>...</td>\n",
       "      <td>1:28.687</td>\n",
       "      <td>-37.8497</td>\n",
       "      <td>144.968</td>\n",
       "      <td>10</td>\n",
       "      <td>Melbourne</td>\n",
       "      <td>Australia</td>\n",
       "      <td>1985-06-27</td>\n",
       "      <td>German</td>\n",
       "      <td>Williams</td>\n",
       "      <td>British</td>\n",
       "    </tr>\n",
       "  </tbody>\n",
       "</table>\n",
       "<p>3 rows × 26 columns</p>\n",
       "</div>"
      ],
      "text/plain": [
       "   resultId  raceId  driverId  constructorId  number  grid  is_podium  \\\n",
       "0         1      18         1              1    22.0     1          1   \n",
       "1         2      18         2              2     3.0     5          1   \n",
       "2         3      18         3              3     7.0     7          1   \n",
       "\n",
       "   position_original  year  circuitId  ...        q3      lat      lng  alt  \\\n",
       "0                1.0  2008          1  ...  1:26.714 -37.8497  144.968   10   \n",
       "1                2.0  2008          1  ...  1:27.236 -37.8497  144.968   10   \n",
       "2                3.0  2008          1  ...  1:28.687 -37.8497  144.968   10   \n",
       "\n",
       "    location    country         dob  nationality  name_constructor  \\\n",
       "0  Melbourne  Australia  1985-01-07      British           McLaren   \n",
       "1  Melbourne  Australia  1977-05-10       German        BMW Sauber   \n",
       "2  Melbourne  Australia  1985-06-27       German          Williams   \n",
       "\n",
       "   nationality_constructor  \n",
       "0                  British  \n",
       "1                   German  \n",
       "2                  British  \n",
       "\n",
       "[3 rows x 26 columns]"
      ]
     },
     "metadata": {},
     "output_type": "display_data"
    }
   ],
   "source": [
    "print(\"Realizando joins entre tablas...\")\n",
    "\n",
    "# Join principal con races\n",
    "df = race_results_filtered.merge(\n",
    "    races[['raceId', 'year', 'circuitId', 'name', 'round', 'date']],\n",
    "    on='raceId',\n",
    "    how='left'\n",
    ")\n",
    "\n",
    "print(f\"  Despues de join con races: {len(df)} registros, {len(df.columns)} columnas\")\n",
    "\n",
    "# Join con Qualifying (renombrar position a position_quali para evitar conflicto)\n",
    "qualifying_renamed = qualifying[['raceId', 'driverId', 'position', 'q1', 'q2', 'q3']].copy()\n",
    "qualifying_renamed = qualifying_renamed.rename(columns={'position': 'position_quali'})\n",
    "df = df.merge(\n",
    "    qualifying_renamed,\n",
    "    on=['raceId', 'driverId'],\n",
    "    how='left'\n",
    ")\n",
    "\n",
    "print(f\"  Despues de join con qualifying: {len(df)} registros, {len(df.columns)} columnas\")\n",
    "\n",
    "# Join con Circuits\n",
    "df = df.merge(\n",
    "    circuits[['circuitId', 'lat', 'lng', 'alt', 'location', 'country']],\n",
    "    on='circuitId',\n",
    "    how='left'\n",
    ")\n",
    "\n",
    "print(f\"  Despues de join con circuits: {len(df)} registros, {len(df.columns)} columnas\")\n",
    "\n",
    "# Join con Drivers\n",
    "df = df.merge(\n",
    "    drivers[['driverId', 'dob', 'nationality']],\n",
    "    on='driverId',\n",
    "    how='left',\n",
    "    suffixes=('', '_driver')\n",
    ")\n",
    "\n",
    "print(f\"  Despues de join con drivers: {len(df)} registros, {len(df.columns)} columnas\")\n",
    "\n",
    "# Join con Constructors\n",
    "df = df.merge(\n",
    "    constructors[['constructorId', 'name', 'nationality']],\n",
    "    on='constructorId',\n",
    "    how='left',\n",
    "    suffixes=('', '_constructor')\n",
    ")\n",
    "\n",
    "print(f\"\\nDataset FINAL despues de todos los joins:\")\n",
    "print(f\"  Registros: {len(df):,}\")\n",
    "print(f\"  Columnas: {len(df.columns)}\")\n",
    "\n",
    "# Mostrar primeras filas\n",
    "print(\"\\nPrimeras 3 filas del dataset unificado:\")\n",
    "display(df.head(3))"
   ]
  },
  {
   "cell_type": "markdown",
   "metadata": {},
   "source": [
    "---\n",
    "## 6. Ordenamiento Temporal (CRITICO para prevenir data leakage)"
   ]
  },
  {
   "cell_type": "code",
   "execution_count": 46,
   "metadata": {},
   "outputs": [
    {
     "name": "stdout",
     "output_type": "stream",
     "text": [
      "Dataset ordenado cronologicamente\n",
      "Fecha minima: 1950-05-13 00:00:00\n",
      "Fecha maxima: 2024-07-07 00:00:00\n",
      "Rango: 74.2 años\n"
     ]
    }
   ],
   "source": [
    "# Convertir fecha a datetime\n",
    "df['date'] = pd.to_datetime(df['date'])\n",
    "\n",
    "# Ordenar cronologicamente\n",
    "df = df.sort_values(['date', 'raceId']).reset_index(drop=True)\n",
    "\n",
    "print(\"Dataset ordenado cronologicamente\")\n",
    "print(f\"Fecha minima: {df['date'].min()}\")\n",
    "print(f\"Fecha maxima: {df['date'].max()}\")\n",
    "print(f\"Rango: {(df['date'].max() - df['date'].min()).days / 365.25:.1f} años\")"
   ]
  },
  {
   "cell_type": "markdown",
   "metadata": {},
   "source": [
    "---\n",
    "## 7. Feature Engineering: Creacion de Features Derivadas\n",
    "\n",
    "### 7.1 Features Historicas del Piloto\n",
    "\n",
    "**Importante**: Usar `.shift(1)` para evitar data leakage temporal"
   ]
  },
  {
   "cell_type": "code",
   "execution_count": 47,
   "metadata": {},
   "outputs": [
    {
     "name": "stdout",
     "output_type": "stream",
     "text": [
      "Creando features historicas del piloto...\n",
      "Features del piloto creadas:\n",
      "  - driver_podiums_last_5\n",
      "  - driver_podium_rate_season\n",
      "  - driver_wins_season\n"
     ]
    }
   ],
   "source": [
    "print(\"Creando features historicas del piloto...\")\n",
    "\n",
    "# 1. Podios en ultimas 5 carreras\n",
    "df['driver_podiums_last_5'] = df.groupby('driverId')['is_podium'].transform(\n",
    "    lambda x: x.rolling(window=5, min_periods=1).sum().shift(1)\n",
    ").fillna(0)\n",
    "\n",
    "# 2. Tasa de podio en la temporada actual\n",
    "df['driver_podium_rate_season'] = df.groupby(['driverId', 'year'])['is_podium'].transform(\n",
    "    lambda x: x.expanding().mean().shift(1)\n",
    ").fillna(0)\n",
    "\n",
    "# 3. Victorias en la temporada\n",
    "df['driver_wins_season'] = df.groupby(['driverId', 'year'])['position_original'].transform(\n",
    "    lambda x: (x == 1).astype(float).cumsum().shift(1)\n",
    ").fillna(0)\n",
    "\n",
    "print(\"Features del piloto creadas:\")\n",
    "print(\"  - driver_podiums_last_5\")\n",
    "print(\"  - driver_podium_rate_season\")\n",
    "print(\"  - driver_wins_season\")"
   ]
  },
  {
   "cell_type": "markdown",
   "metadata": {},
   "source": [
    "### 7.2 Features Historicas del Constructor (Escuderia)"
   ]
  },
  {
   "cell_type": "code",
   "execution_count": 48,
   "metadata": {},
   "outputs": [
    {
     "name": "stdout",
     "output_type": "stream",
     "text": [
      "Creando features historicas del constructor...\n",
      "Features del constructor creadas:\n",
      "  - constructor_podiums_last_5\n",
      "  - constructor_podium_rate_season\n"
     ]
    }
   ],
   "source": [
    "print(\"Creando features historicas del constructor...\")\n",
    "\n",
    "# 1. Podios en ultimas 5 carreras\n",
    "df['constructor_podiums_last_5'] = df.groupby('constructorId')['is_podium'].transform(\n",
    "    lambda x: x.rolling(window=5, min_periods=1).sum().shift(1)\n",
    ").fillna(0)\n",
    "\n",
    "# 2. Tasa de podio en la temporada\n",
    "df['constructor_podium_rate_season'] = df.groupby(['constructorId', 'year'])['is_podium'].transform(\n",
    "    lambda x: x.expanding().mean().shift(1)\n",
    ").fillna(0)\n",
    "\n",
    "print(\"Features del constructor creadas:\")\n",
    "print(\"  - constructor_podiums_last_5\")\n",
    "print(\"  - constructor_podium_rate_season\")"
   ]
  },
  {
   "cell_type": "markdown",
   "metadata": {},
   "source": [
    "### 7.3 Features de Qualifying y Temporales"
   ]
  },
  {
   "cell_type": "code",
   "execution_count": 49,
   "metadata": {},
   "outputs": [
    {
     "name": "stdout",
     "output_type": "stream",
     "text": [
      "Creando features de qualifying y temporales...\n",
      "Features adicionales creadas:\n",
      "  - quali_position_top3, quali_position_top5\n",
      "  - driver_age\n",
      "  - season_progress, is_season_start, is_season_end\n",
      "\n",
      "Total de columnas: 37\n"
     ]
    }
   ],
   "source": [
    "print(\"Creando features de qualifying y temporales...\")\n",
    "\n",
    "# Features de qualifying\n",
    "df['quali_position_top3'] = (df['position_quali'] <= 3).astype(int)\n",
    "df['quali_position_top5'] = (df['position_quali'] <= 5).astype(int)\n",
    "\n",
    "# Edad del piloto\n",
    "df['driver_age'] = df['year'] - pd.to_datetime(df['dob']).dt.year\n",
    "\n",
    "# Progreso de la temporada\n",
    "max_round_per_season = df.groupby('year')['round'].transform('max')\n",
    "df['season_progress'] = df['round'] / max_round_per_season\n",
    "df['is_season_start'] = (df['round'] <= 3).astype(int)\n",
    "df['is_season_end'] = (df['round'] >= max_round_per_season - 2).astype(int)\n",
    "\n",
    "print(\"Features adicionales creadas:\")\n",
    "print(\"  - quali_position_top3, quali_position_top5\")\n",
    "print(\"  - driver_age\")\n",
    "print(\"  - season_progress, is_season_start, is_season_end\")\n",
    "\n",
    "print(f\"\\nTotal de columnas: {len(df.columns)}\")"
   ]
  },
  {
   "cell_type": "markdown",
   "metadata": {},
   "source": [
    "### 7.4 Visualizacion de Features Derivadas Clave"
   ]
  },
  {
   "cell_type": "code",
   "execution_count": 50,
   "metadata": {},
   "outputs": [
    {
     "data": {
      "image/png": "[encoded data removed]",
      "text/plain": [
       "<Figure size 1600x1000 with 6 Axes>"
      ]
     },
     "metadata": {},
     "output_type": "display_data"
    }
   ],
   "source": [
    "# Distribucion de features derivadas por clase\n",
    "fig, axes = plt.subplots(2, 3, figsize=(16, 10))\n",
    "axes = axes.flatten()\n",
    "\n",
    "features_to_plot = [\n",
    "    'driver_podiums_last_5',\n",
    "    'driver_podium_rate_season',\n",
    "    'constructor_podiums_last_5',\n",
    "    'driver_age',\n",
    "    'season_progress',\n",
    "    'quali_position_top3'\n",
    "]\n",
    "\n",
    "for i, feature in enumerate(features_to_plot):\n",
    "    # Boxplot por clase\n",
    "    df.boxplot(column=feature, by='is_podium', ax=axes[i])\n",
    "    axes[i].set_title(f'{feature}', fontsize=11, fontweight='bold')\n",
    "    axes[i].set_xlabel('is_podium')\n",
    "    axes[i].set_ylabel(feature)\n",
    "    axes[i].get_figure().suptitle('')\n",
    "\n",
    "plt.suptitle('Distribucion de Features Derivadas por Clase (Podio vs No Podio)', \n",
    "             fontsize=14, fontweight='bold', y=1.00)\n",
    "plt.tight_layout()\n",
    "plt.show()"
   ]
  },
  {
   "cell_type": "markdown",
   "metadata": {},
   "source": [
    "---\n",
    "## 8. Transformacion de Tiempos de Qualifying\n",
    "\n",
    "Convertir tiempos en formato 'M:SS.mmm' a milisegundos numericos"
   ]
  },
  {
   "cell_type": "code",
   "execution_count": 51,
   "metadata": {},
   "outputs": [
    {
     "name": "stdout",
     "output_type": "stream",
     "text": [
      "Transformando tiempos de qualifying...\n",
      "Tiempos transformados exitosamente\n",
      "\n",
      "Ejemplo de transformacion:\n"
     ]
    },
    {
     "data": {
      "text/html": [
       "<div>\n",
       "<style scoped>\n",
       "    .dataframe tbody tr th:only-of-type {\n",
       "        vertical-align: middle;\n",
       "    }\n",
       "\n",
       "    .dataframe tbody tr th {\n",
       "        vertical-align: top;\n",
       "    }\n",
       "\n",
       "    .dataframe thead th {\n",
       "        text-align: right;\n",
       "    }\n",
       "</style>\n",
       "<table border=\"1\" class=\"dataframe\">\n",
       "  <thead>\n",
       "    <tr style=\"text-align: right;\">\n",
       "      <th></th>\n",
       "      <th>q1</th>\n",
       "      <th>q1_ms</th>\n",
       "      <th>has_q1</th>\n",
       "    </tr>\n",
       "  </thead>\n",
       "  <tbody>\n",
       "    <tr>\n",
       "      <th>6670</th>\n",
       "      <td>1:16.290</td>\n",
       "      <td>76290.0</td>\n",
       "      <td>1</td>\n",
       "    </tr>\n",
       "    <tr>\n",
       "      <th>6671</th>\n",
       "      <td>1:17.554</td>\n",
       "      <td>77554.0</td>\n",
       "      <td>1</td>\n",
       "    </tr>\n",
       "    <tr>\n",
       "      <th>6672</th>\n",
       "      <td>1:17.385</td>\n",
       "      <td>77385.0</td>\n",
       "      <td>1</td>\n",
       "    </tr>\n",
       "  </tbody>\n",
       "</table>\n",
       "</div>"
      ],
      "text/plain": [
       "            q1    q1_ms  has_q1\n",
       "6670  1:16.290  76290.0       1\n",
       "6671  1:17.554  77554.0       1\n",
       "6672  1:17.385  77385.0       1"
      ]
     },
     "metadata": {},
     "output_type": "display_data"
    }
   ],
   "source": [
    "def time_to_milliseconds(time_str):\n",
    "    \"\"\"Convierte string 'M:SS.mmm' a milisegundos\"\"\"\n",
    "    if pd.isna(time_str):\n",
    "        return np.nan\n",
    "    try:\n",
    "        parts = str(time_str).split(':')\n",
    "        if len(parts) != 2:\n",
    "            return np.nan\n",
    "        minutes = int(parts[0])\n",
    "        seconds = float(parts[1])\n",
    "        return (minutes * 60 + seconds) * 1000\n",
    "    except:\n",
    "        return np.nan\n",
    "\n",
    "# Aplicar transformacion\n",
    "print(\"Transformando tiempos de qualifying...\")\n",
    "\n",
    "df['q1_ms'] = df['q1'].apply(time_to_milliseconds)\n",
    "df['q2_ms'] = df['q2'].apply(time_to_milliseconds)\n",
    "df['q3_ms'] = df['q3'].apply(time_to_milliseconds)\n",
    "\n",
    "# Crear flags binarios de participacion\n",
    "df['has_q1'] = df['q1'].notna().astype(int)\n",
    "df['has_q2'] = df['q2'].notna().astype(int)\n",
    "df['has_q3'] = df['q3'].notna().astype(int)\n",
    "\n",
    "print(\"Tiempos transformados exitosamente\")\n",
    "print(f\"\\nEjemplo de transformacion:\")\n",
    "sample = df[['q1', 'q1_ms', 'has_q1']].dropna(subset=['q1']).head(3)\n",
    "display(sample)"
   ]
  },
  {
   "cell_type": "markdown",
   "metadata": {},
   "source": [
    "---\n",
    "## 9. Imputacion de Valores Faltantes"
   ]
  },
  {
   "cell_type": "code",
   "execution_count": 52,
   "metadata": {},
   "outputs": [
    {
     "name": "stdout",
     "output_type": "stream",
     "text": [
      "Imputando valores faltantes...\n",
      "  position_quali: Imputados 0 valores\n",
      "  dob: Imputados con mediana (1971-01-18)\n",
      "\n",
      "Imputacion completada\n"
     ]
    }
   ],
   "source": [
    "print(\"Imputando valores faltantes...\")\n",
    "\n",
    "# 1. position_quali: Imputar con max + 1 por carrera (piloto partio ultimo)\n",
    "max_quali_per_race = df.groupby('raceId')['position_quali'].transform('max')\n",
    "df['position_quali'] = df['position_quali'].fillna(max_quali_per_race + 1)\n",
    "df['position_quali'] = df['position_quali'].fillna(25)  # Valor por defecto si todo es NaN\n",
    "\n",
    "print(f\"  position_quali: Imputados {df['position_quali'].isnull().sum()} valores\")\n",
    "\n",
    "# 2. dob: Imputar con mediana\n",
    "df['dob'] = pd.to_datetime(df['dob'])\n",
    "median_dob = df['dob'].median()\n",
    "df['dob'] = df['dob'].fillna(median_dob)\n",
    "df['driver_age'] = df['year'] - df['dob'].dt.year\n",
    "\n",
    "print(f\"  dob: Imputados con mediana ({median_dob.date()})\")\n",
    "\n",
    "# Recalcular features que dependen de position_quali\n",
    "df['quali_position_top3'] = (df['position_quali'] <= 3).astype(int)\n",
    "df['quali_position_top5'] = (df['position_quali'] <= 5).astype(int)\n",
    "\n",
    "print(\"\\nImputacion completada\")"
   ]
  },
  {
   "cell_type": "markdown",
   "metadata": {},
   "source": [
    "---\n",
    "## 10. Split Temporal Train/Test\n",
    "\n",
    "**Estrategia**: Split temporal para evitar data leakage\n",
    "- **Train**: Carreras hasta 2022 (inclusive)\n",
    "- **Test**: Carreras desde 2023 en adelante"
   ]
  },
  {
   "cell_type": "code",
   "execution_count": 53,
   "metadata": {},
   "outputs": [
    {
     "name": "stdout",
     "output_type": "stream",
     "text": [
      "Dividiendo dataset en Train/Test (fecha de corte: 2023-01-01)...\n",
      "\n",
      "Dataset Train:\n",
      "  Registros: 14,989\n",
      "  Fecha minima: 1950-05-13 00:00:00\n",
      "  Fecha maxima: 2022-11-20 00:00:00\n",
      "\n",
      "Dataset Test:\n",
      "  Registros: 602\n",
      "  Fecha minima: 2023-03-05 00:00:00\n",
      "  Fecha maxima: 2024-07-07 00:00:00\n",
      "\n",
      "Balance Train:\n",
      "  No Podio: 11,731 (78.26%)\n",
      "  Podio: 3,258 (21.74%)\n",
      "\n",
      "Balance Test:\n",
      "  No Podio: 500 (83.06%)\n",
      "  Podio: 102 (16.94%)\n"
     ]
    }
   ],
   "source": [
    "print(f\"Dividiendo dataset en Train/Test (fecha de corte: {SPLIT_DATE})...\")\n",
    "\n",
    "train_df = df[df['date'] < SPLIT_DATE].copy()\n",
    "test_df = df[df['date'] >= SPLIT_DATE].copy()\n",
    "\n",
    "print(f\"\\nDataset Train:\")\n",
    "print(f\"  Registros: {len(train_df):,}\")\n",
    "print(f\"  Fecha minima: {train_df['date'].min()}\")\n",
    "print(f\"  Fecha maxima: {train_df['date'].max()}\")\n",
    "\n",
    "print(f\"\\nDataset Test:\")\n",
    "print(f\"  Registros: {len(test_df):,}\")\n",
    "print(f\"  Fecha minima: {test_df['date'].min()}\")\n",
    "print(f\"  Fecha maxima: {test_df['date'].max()}\")\n",
    "\n",
    "# Verificar balance en train y test\n",
    "train_balance = train_df['is_podium'].value_counts()\n",
    "test_balance = test_df['is_podium'].value_counts()\n",
    "\n",
    "print(f\"\\nBalance Train:\")\n",
    "print(f\"  No Podio: {train_balance[0]:,} ({100*train_balance[0]/len(train_df):.2f}%)\")\n",
    "print(f\"  Podio: {train_balance[1]:,} ({100*train_balance[1]/len(train_df):.2f}%)\")\n",
    "\n",
    "print(f\"\\nBalance Test:\")\n",
    "print(f\"  No Podio: {test_balance[0]:,} ({100*test_balance[0]/len(test_df):.2f}%)\")\n",
    "print(f\"  Podio: {test_balance[1]:,} ({100*test_balance[1]/len(test_df):.2f}%)\")"
   ]
  },
  {
   "cell_type": "code",
   "execution_count": 54,
   "metadata": {},
   "outputs": [
    {
     "data": {
      "image/png": "[encoded data removed]",
      "text/plain": [
       "<Figure size 1400x500 with 2 Axes>"
      ]
     },
     "metadata": {},
     "output_type": "display_data"
    }
   ],
   "source": [
    "# Visualizacion del split\n",
    "fig, axes = plt.subplots(1, 2, figsize=(14, 5))\n",
    "\n",
    "# Grafico 1: Tamaños de Train y Test\n",
    "sizes = [len(train_df), len(test_df)]\n",
    "labels = [f'Train\\n({len(train_df):,})', f'Test\\n({len(test_df):,})']\n",
    "colors_split = ['#3498db', '#e74c3c']\n",
    "\n",
    "axes[0].bar(labels, sizes, color=colors_split, alpha=0.7, edgecolor='black')\n",
    "axes[0].set_ylabel('Numero de Registros', fontsize=12)\n",
    "axes[0].set_title('Split Temporal: Train vs Test', fontsize=14, fontweight='bold')\n",
    "axes[0].grid(axis='y', alpha=0.3)\n",
    "\n",
    "# Grafico 2: Balance de clases en ambos conjuntos\n",
    "x = np.arange(2)\n",
    "width = 0.35\n",
    "\n",
    "train_pcts = [100*train_balance[0]/len(train_df), 100*train_balance[1]/len(train_df)]\n",
    "test_pcts = [100*test_balance[0]/len(test_df), 100*test_balance[1]/len(test_df)]\n",
    "\n",
    "axes[1].bar(x - width/2, train_pcts, width, label='Train', color='#3498db', alpha=0.7, edgecolor='black')\n",
    "axes[1].bar(x + width/2, test_pcts, width, label='Test', color='#e74c3c', alpha=0.7, edgecolor='black')\n",
    "\n",
    "axes[1].set_ylabel('Porcentaje (%)', fontsize=12)\n",
    "axes[1].set_title('Balance de Clases: Train vs Test', fontsize=14, fontweight='bold')\n",
    "axes[1].set_xticks(x)\n",
    "axes[1].set_xticklabels(['No Podio (0)', 'Podio (1)'])\n",
    "axes[1].legend()\n",
    "axes[1].grid(axis='y', alpha=0.3)\n",
    "\n",
    "plt.tight_layout()\n",
    "plt.show()"
   ]
  },
  {
   "cell_type": "markdown",
   "metadata": {},
   "source": [
    "---\n",
    "## 11. Aplicacion de Transformaciones (Scaling y Encoding)\n",
    "\n",
    "### 11.1 MinMaxScaler: Features Acotadas"
   ]
  },
  {
   "cell_type": "code",
   "execution_count": 55,
   "metadata": {},
   "outputs": [
    {
     "name": "stdout",
     "output_type": "stream",
     "text": [
      "Aplicando MinMaxScaler...\n",
      "Features a escalar: 10\n",
      "MinMaxScaler aplicado exitosamente\n",
      "\n",
      "Rango despues de scaling: [0, 1]\n",
      "\n",
      "Ejemplo (grid):\n",
      "  Min: 0.0000\n",
      "  Max: 1.0000\n"
     ]
    }
   ],
   "source": [
    "# Features para MinMaxScaler (acotadas, rangos definidos)\n",
    "minmax_features = [\n",
    "    'grid', 'round', 'season_progress',\n",
    "    'driver_podiums_last_5', 'constructor_podiums_last_5',\n",
    "    'driver_podium_rate_season', 'constructor_podium_rate_season',\n",
    "    'q1_ms', 'q2_ms', 'q3_ms'\n",
    "]\n",
    "\n",
    "print(\"Aplicando MinMaxScaler...\")\n",
    "print(f\"Features a escalar: {len(minmax_features)}\")\n",
    "\n",
    "# Aplicar MinMaxScaler\n",
    "minmax_scaler = MinMaxScaler()\n",
    "train_df[minmax_features] = minmax_scaler.fit_transform(train_df[minmax_features].fillna(0))\n",
    "test_df[minmax_features] = minmax_scaler.transform(test_df[minmax_features].fillna(0))\n",
    "\n",
    "print(\"MinMaxScaler aplicado exitosamente\")\n",
    "print(f\"\\nRango despues de scaling: [0, 1]\")\n",
    "print(f\"\\nEjemplo (grid):\")\n",
    "print(f\"  Min: {train_df['grid'].min():.4f}\")\n",
    "print(f\"  Max: {train_df['grid'].max():.4f}\")"
   ]
  },
  {
   "cell_type": "markdown",
   "metadata": {},
   "source": [
    "### 11.2 StandardScaler: Features con Distribucion Normal"
   ]
  },
  {
   "cell_type": "code",
   "execution_count": 56,
   "metadata": {},
   "outputs": [
    {
     "name": "stdout",
     "output_type": "stream",
     "text": [
      "Aplicando StandardScaler...\n",
      "Features a estandarizar: 5\n",
      "StandardScaler aplicado exitosamente\n",
      "\n",
      "Media despues de scaling: ~0\n",
      "Desviacion estandar: ~1\n",
      "\n",
      "Ejemplo (driver_age):\n",
      "  Media: 0.0000\n",
      "  Std: 1.0000\n"
     ]
    }
   ],
   "source": [
    "# Features para StandardScaler\n",
    "standard_features = ['lat', 'lng', 'alt', 'year', 'driver_age']\n",
    "\n",
    "print(\"Aplicando StandardScaler...\")\n",
    "print(f\"Features a estandarizar: {len(standard_features)}\")\n",
    "\n",
    "# Aplicar StandardScaler\n",
    "standard_scaler = StandardScaler()\n",
    "train_df[standard_features] = standard_scaler.fit_transform(train_df[standard_features].fillna(0))\n",
    "test_df[standard_features] = standard_scaler.transform(test_df[standard_features].fillna(0))\n",
    "\n",
    "print(\"StandardScaler aplicado exitosamente\")\n",
    "print(f\"\\nMedia despues de scaling: ~0\")\n",
    "print(f\"Desviacion estandar: ~1\")\n",
    "print(f\"\\nEjemplo (driver_age):\")\n",
    "print(f\"  Media: {train_df['driver_age'].mean():.4f}\")\n",
    "print(f\"  Std: {train_df['driver_age'].std():.4f}\")"
   ]
  },
  {
   "cell_type": "markdown",
   "metadata": {},
   "source": [
    "### 11.3 Target Encoding: Variables de Alta Cardinalidad"
   ]
  },
  {
   "cell_type": "code",
   "execution_count": 57,
   "metadata": {},
   "outputs": [
    {
     "name": "stdout",
     "output_type": "stream",
     "text": [
      "Aplicando Target Encoding...\n",
      "\n",
      "Cardinalidad de features:\n",
      "  driverId: 653 valores unicos\n",
      "  constructorId: 161 valores unicos\n",
      "  circuitId: 76 valores unicos\n",
      "Warning: No categorical columns found. Calling 'transform' will only return input data.\n",
      "Warning: No categorical columns found. Calling 'transform' will only return input data.\n",
      "Warning: No categorical columns found. Calling 'transform' will only return input data.\n",
      "\n",
      "Target Encoding aplicado exitosamente\n",
      "Nuevas columnas creadas: 3\n"
     ]
    }
   ],
   "source": [
    "# Features categoricas de alta cardinalidad\n",
    "target_encoding_features = ['driverId', 'constructorId', 'circuitId']\n",
    "\n",
    "print(\"Aplicando Target Encoding...\")\n",
    "print(f\"\\nCardinalidad de features:\")\n",
    "for feat in target_encoding_features:\n",
    "    print(f\"  {feat}: {train_df[feat].nunique()} valores unicos\")\n",
    "\n",
    "# Aplicar Target Encoding\n",
    "target_encoder = TargetEncoder(smoothing=1.0)\n",
    "for feat in target_encoding_features:\n",
    "    train_df[f'{feat}_encoded'] = target_encoder.fit_transform(train_df[feat], train_df['is_podium'])\n",
    "    test_df[f'{feat}_encoded'] = target_encoder.transform(test_df[feat])\n",
    "\n",
    "print(\"\\nTarget Encoding aplicado exitosamente\")\n",
    "print(f\"Nuevas columnas creadas: {len(target_encoding_features)}\")"
   ]
  },
  {
   "cell_type": "markdown",
   "metadata": {},
   "source": [
    "### 11.4 One-Hot Encoding: Variables Categoricas de Baja Cardinalidad"
   ]
  },
  {
   "cell_type": "code",
   "execution_count": 58,
   "metadata": {},
   "outputs": [
    {
     "name": "stdout",
     "output_type": "stream",
     "text": [
      "Aplicando One-Hot Encoding...\n",
      "\n",
      "Cardinalidad de features:\n",
      "  location: 74 valores unicos\n",
      "  country: 34 valores unicos\n",
      "  nationality: 41 valores unicos\n",
      "  nationality_constructor: 19 valores unicos\n",
      "\n",
      "One-Hot Encoding aplicado\n",
      "Total de columnas despues de encoding: 206\n"
     ]
    }
   ],
   "source": [
    "# Features categoricas de baja cardinalidad\n",
    "onehot_features = ['location', 'country', 'nationality', 'nationality_constructor']\n",
    "\n",
    "print(\"Aplicando One-Hot Encoding...\")\n",
    "print(f\"\\nCardinalidad de features:\")\n",
    "for feat in onehot_features:\n",
    "    if feat in train_df.columns:\n",
    "        print(f\"  {feat}: {train_df[feat].nunique()} valores unicos\")\n",
    "\n",
    "# Aplicar One-Hot Encoding\n",
    "train_df = pd.get_dummies(train_df, columns=onehot_features, drop_first=True, dtype=int)\n",
    "test_df = pd.get_dummies(test_df, columns=onehot_features, drop_first=True, dtype=int)\n",
    "\n",
    "# Alinear columnas entre train y test\n",
    "train_df, test_df = train_df.align(test_df, join='left', axis=1, fill_value=0)\n",
    "\n",
    "print(f\"\\nOne-Hot Encoding aplicado\")\n",
    "print(f\"Total de columnas despues de encoding: {len(train_df.columns)}\")"
   ]
  },
  {
   "cell_type": "markdown",
   "metadata": {},
   "source": [
    "---\n",
    "## 12. Preparacion Final de Datasets"
   ]
  },
  {
   "cell_type": "code",
   "execution_count": 59,
   "metadata": {},
   "outputs": [
    {
     "name": "stdout",
     "output_type": "stream",
     "text": [
      "Preparando datasets finales...\n",
      "  Advertencia: Eliminando columna 'name_constructor' (tipo object)\n",
      "\n",
      "Datasets finales:\n",
      "  X_train: (14989, 190)\n",
      "  X_test: (602, 190)\n",
      "  y_train: (14989,)\n",
      "  y_test: (602,)\n",
      "\n",
      "Balance final en Train:\n",
      "  No Podio: 11,731 (78.26%)\n",
      "  Podio: 3,258 (21.74%)\n"
     ]
    }
   ],
   "source": [
    "print(\"Preparando datasets finales...\")\n",
    "\n",
    "# Columnas a eliminar\n",
    "columns_to_drop = [\n",
    "    'raceId', 'date', 'name', 'dob', 'q1', 'q2', 'q3',\n",
    "    'driverId', 'constructorId', 'circuitId',\n",
    "    'resultId', 'number', 'positionText',\n",
    "    'position_original', 'position_quali',\n",
    "    'is_podium'\n",
    "]\n",
    "\n",
    "# Preparar X (features) y y (target)\n",
    "X_train = train_df.drop(columns=[c for c in columns_to_drop if c in train_df.columns], errors='ignore')\n",
    "X_test = test_df.drop(columns=[c for c in columns_to_drop if c in test_df.columns], errors='ignore')\n",
    "y_train = train_df['is_podium'].values\n",
    "y_test = test_df['is_podium'].values\n",
    "\n",
    "# Asegurar que no hay NaN\n",
    "X_train = X_train.fillna(0)\n",
    "X_test = X_test.fillna(0)\n",
    "\n",
    "# Eliminar columnas tipo object (strings residuales)\n",
    "for col in X_train.columns:\n",
    "    if X_train[col].dtype == 'object':\n",
    "        print(f\"  Advertencia: Eliminando columna '{col}' (tipo object)\")\n",
    "        X_train = X_train.drop(columns=[col])\n",
    "        X_test = X_test.drop(columns=[col], errors='ignore')\n",
    "\n",
    "print(f\"\\nDatasets finales:\")\n",
    "print(f\"  X_train: {X_train.shape}\")\n",
    "print(f\"  X_test: {X_test.shape}\")\n",
    "print(f\"  y_train: {y_train.shape}\")\n",
    "print(f\"  y_test: {y_test.shape}\")\n",
    "\n",
    "print(f\"\\nBalance final en Train:\")\n",
    "print(f\"  No Podio: {(y_train == 0).sum():,} ({100*(y_train == 0).mean():.2f}%)\")\n",
    "print(f\"  Podio: {(y_train == 1).sum():,} ({100*(y_train == 1).mean():.2f}%)\")"
   ]
  },
  {
   "cell_type": "markdown",
   "metadata": {},
   "source": [
    "---\n",
    "## 13. Aplicacion de SMOTE para Balanceo de Clases\n",
    "\n",
    "**SMOTE** (Synthetic Minority Over-sampling Technique) genera muestras sinteticas de la clase minoritaria"
   ]
  },
  {
   "cell_type": "code",
   "execution_count": 60,
   "metadata": {},
   "outputs": [
    {
     "name": "stderr",
     "output_type": "stream",
     "text": [
      "Exception ignored on calling ctypes callback function: <function ThreadpoolController._find_libraries_with_dl_iterate_phdr.<locals>.match_library_callback at 0x7f411c17b9c0>\n",
      "Traceback (most recent call last):\n",
      "  File \"/usr/local/lib/python3.11/site-packages/threadpoolctl.py\", line 1005, in match_library_callback\n",
      "    self._make_controller_from_path(filepath)\n",
      "  File \"/usr/local/lib/python3.11/site-packages/threadpoolctl.py\", line 1187, in _make_controller_from_path\n",
      "    lib_controller = controller_class(\n",
      "                     ^^^^^^^^^^^^^^^^^\n",
      "  File \"/usr/local/lib/python3.11/site-packages/threadpoolctl.py\", line 114, in __init__\n",
      "    self.dynlib = ctypes.CDLL(filepath, mode=_RTLD_NOLOAD)\n",
      "                  ^^^^^^^^^^^^^^^^^^^^^^^^^^^^^^^^^^^^^^^^\n",
      "  File \"/usr/local/lib/python3.11/ctypes/__init__.py\", line 376, in __init__\n",
      "    self._handle = _dlopen(self._name, mode)\n",
      "                   ^^^^^^^^^^^^^^^^^^^^^^^^^\n",
      "OSError: dlopen() error\n"
     ]
    },
    {
     "name": "stdout",
     "output_type": "stream",
     "text": [
      "Aplicando SMOTE para balanceo...\n",
      "\n",
      "ANTES de SMOTE:\n",
      "  Total: 14,989\n",
      "  No Podio: 11,731 (78.26%)\n",
      "  Podio: 3,258 (21.74%)\n",
      "\n",
      "DESPUES de SMOTE (sampling_strategy=0.5):\n",
      "  Total: 17,596 (+2,607)\n",
      "  No Podio: 11,731 (66.67%)\n",
      "  Podio: 5,865 (33.33%)\n",
      "\n",
      "Muestras sinteticas generadas: 2,607\n"
     ]
    }
   ],
   "source": [
    "print(\"Aplicando SMOTE para balanceo...\")\n",
    "print(f\"\\nANTES de SMOTE:\")\n",
    "print(f\"  Total: {len(y_train):,}\")\n",
    "print(f\"  No Podio: {(y_train == 0).sum():,} ({100*(y_train == 0).mean():.2f}%)\")\n",
    "print(f\"  Podio: {(y_train == 1).sum():,} ({100*(y_train == 1).mean():.2f}%)\")\n",
    "\n",
    "# Aplicar SMOTE\n",
    "smote = SMOTE(sampling_strategy=0.5, random_state=42)\n",
    "X_train_smote, y_train_smote = smote.fit_resample(X_train, y_train)\n",
    "\n",
    "print(f\"\\nDESPUES de SMOTE (sampling_strategy=0.5):\")\n",
    "print(f\"  Total: {len(y_train_smote):,} (+{len(y_train_smote) - len(y_train):,})\")\n",
    "print(f\"  No Podio: {(y_train_smote == 0).sum():,} ({100*(y_train_smote == 0).mean():.2f}%)\")\n",
    "print(f\"  Podio: {(y_train_smote == 1).sum():,} ({100*(y_train_smote == 1).mean():.2f}%)\")\n",
    "\n",
    "print(f\"\\nMuestras sinteticas generadas: {(y_train_smote == 1).sum() - (y_train == 1).sum():,}\")"
   ]
  },
  {
   "cell_type": "code",
   "execution_count": 61,
   "metadata": {},
   "outputs": [
    {
     "data": {
      "image/png": "[encoded data removed]",
      "text/plain": [
       "<Figure size 1400x500 with 2 Axes>"
      ]
     },
     "metadata": {},
     "output_type": "display_data"
    },
    {
     "name": "stdout",
     "output_type": "stream",
     "text": [
      "\n",
      "CONCLUSION: SMOTE mejora el balance sin perder informacion de la clase mayoritaria\n"
     ]
    }
   ],
   "source": [
    "# Visualizacion del efecto de SMOTE\n",
    "fig, axes = plt.subplots(1, 2, figsize=(14, 5))\n",
    "\n",
    "# Antes de SMOTE\n",
    "before_counts = [((y_train == 0).sum()), (y_train == 1).sum()]\n",
    "before_labels = [f'No Podio\\n{before_counts[0]:,}', f'Podio\\n{before_counts[1]:,}']\n",
    "axes[0].bar(before_labels, before_counts, color=['#FF6B6B', '#4ECDC4'], alpha=0.7, edgecolor='black')\n",
    "axes[0].set_ylabel('Numero de Muestras', fontsize=12)\n",
    "axes[0].set_title('ANTES de SMOTE', fontsize=14, fontweight='bold')\n",
    "axes[0].grid(axis='y', alpha=0.3)\n",
    "\n",
    "# Despues de SMOTE\n",
    "after_counts = [(y_train_smote == 0).sum(), (y_train_smote == 1).sum()]\n",
    "after_labels = [f'No Podio\\n{after_counts[0]:,}', f'Podio\\n{after_counts[1]:,}']\n",
    "axes[1].bar(after_labels, after_counts, color=['#FF6B6B', '#4ECDC4'], alpha=0.7, edgecolor='black')\n",
    "axes[1].set_ylabel('Numero de Muestras', fontsize=12)\n",
    "axes[1].set_title('DESPUES de SMOTE', fontsize=14, fontweight='bold')\n",
    "axes[1].grid(axis='y', alpha=0.3)\n",
    "\n",
    "plt.tight_layout()\n",
    "plt.show()\n",
    "\n",
    "print(\"\\nCONCLUSION: SMOTE mejora el balance sin perder informacion de la clase mayoritaria\")"
   ]
  },
  {
   "cell_type": "markdown",
   "metadata": {},
   "source": [
    "---\n",
    "## 14. Guardado de Datasets y Transformadores"
   ]
  },
  {
   "cell_type": "code",
   "execution_count": 62,
   "metadata": {},
   "outputs": [
    {
     "name": "stdout",
     "output_type": "stream",
     "text": [
      "Guardando datasets procesados y transformadores...\n",
      "  Datasets originales guardados:\n",
      "    - model4_X_train.csv\n",
      "    - model4_X_test.csv\n",
      "    - model4_y_train.npy\n",
      "    - model4_y_test.npy\n",
      "\n",
      "  Datasets balanceados (SMOTE) guardados:\n",
      "    - model4_X_train_smote.csv\n",
      "    - model4_y_train_smote.npy\n",
      "\n",
      "  Transformadores guardados:\n",
      "    - model4_minmax_scaler.pkl\n",
      "    - model4_standard_scaler.pkl\n",
      "    - model4_target_encoder.pkl\n",
      "\n",
      "================================================================================\n",
      "PREPROCESAMIENTO COMPLETADO EXITOSAMENTE\n",
      "================================================================================\n"
     ]
    }
   ],
   "source": [
    "print(\"Guardando datasets procesados y transformadores...\")\n",
    "\n",
    "# Guardar datasets originales (sin SMOTE)\n",
    "X_train.to_csv(f'{OUTPUT_PATH}model4_X_train.csv', index=False)\n",
    "X_test.to_csv(f'{OUTPUT_PATH}model4_X_test.csv', index=False)\n",
    "np.save(f'{OUTPUT_PATH}model4_y_train.npy', y_train)\n",
    "np.save(f'{OUTPUT_PATH}model4_y_test.npy', y_test)\n",
    "\n",
    "print(\"  Datasets originales guardados:\")\n",
    "print(\"    - model4_X_train.csv\")\n",
    "print(\"    - model4_X_test.csv\")\n",
    "print(\"    - model4_y_train.npy\")\n",
    "print(\"    - model4_y_test.npy\")\n",
    "\n",
    "# Guardar version con SMOTE\n",
    "pd.DataFrame(X_train_smote, columns=X_train.columns).to_csv(f'{OUTPUT_PATH}model4_X_train_smote.csv', index=False)\n",
    "np.save(f'{OUTPUT_PATH}model4_y_train_smote.npy', y_train_smote)\n",
    "\n",
    "print(\"\\n  Datasets balanceados (SMOTE) guardados:\")\n",
    "print(\"    - model4_X_train_smote.csv\")\n",
    "print(\"    - model4_y_train_smote.npy\")\n",
    "\n",
    "# Guardar transformadores\n",
    "joblib.dump(minmax_scaler, f'{OUTPUT_PATH}model4_minmax_scaler.pkl')\n",
    "joblib.dump(standard_scaler, f'{OUTPUT_PATH}model4_standard_scaler.pkl')\n",
    "joblib.dump(target_encoder, f'{OUTPUT_PATH}model4_target_encoder.pkl')\n",
    "\n",
    "print(\"\\n  Transformadores guardados:\")\n",
    "print(\"    - model4_minmax_scaler.pkl\")\n",
    "print(\"    - model4_standard_scaler.pkl\")\n",
    "print(\"    - model4_target_encoder.pkl\")\n",
    "\n",
    "print(\"\\n\" + \"=\"*80)\n",
    "print(\"PREPROCESAMIENTO COMPLETADO EXITOSAMENTE\")\n",
    "print(\"=\"*80)"
   ]
  },
  {
   "cell_type": "markdown",
   "metadata": {},
   "source": [
    "---\n",
    "## 15. Resumen Final del Preprocesamiento"
   ]
  },
  {
   "cell_type": "code",
   "execution_count": 63,
   "metadata": {},
   "outputs": [
    {
     "name": "stdout",
     "output_type": "stream",
     "text": [
      "\n",
      "================================================================================\n",
      "RESUMEN FINAL - PREPROCESAMIENTO MODELO 4\n",
      "================================================================================\n",
      "\n",
      "1. DATASET TRAIN (Original):\n",
      "   Registros: 14,989\n",
      "   Features: 190\n",
      "   No Podio: 11,731 (78.26%)\n",
      "   Podio: 3,258 (21.74%)\n",
      "\n",
      "2. DATASET TRAIN (Balanceado con SMOTE):\n",
      "   Registros: 17,596\n",
      "   Features: 190\n",
      "   No Podio: 11,731 (66.67%)\n",
      "   Podio: 5,865 (33.33%)\n",
      "\n",
      "3. DATASET TEST:\n",
      "   Registros: 602\n",
      "   Features: 190\n",
      "   No Podio: 500 (83.06%)\n",
      "   Podio: 102 (16.94%)\n",
      "\n",
      "4. TRANSFORMACIONES APLICADAS:\n",
      "   - MinMaxScaler: 10 features\n",
      "   - StandardScaler: 5 features\n",
      "   - Target Encoding: 3 features\n",
      "   - One-Hot Encoding: 4 features\n",
      "\n",
      "5. DATA LEAKAGE:\n",
      "   - Variables eliminadas: 12\n",
      "   - Features historicas con shift(1): Previene leakage temporal\n",
      "   - Split temporal: Train (hasta 2022), Test (2023+)\n",
      "\n",
      "6. ARCHIVOS GENERADOS:\n",
      "   - 4 archivos de datos (train/test original)\n",
      "   - 2 archivos de datos balanceados (SMOTE)\n",
      "   - 3 transformadores (scalers, encoder)\n",
      "\n",
      "================================================================================\n",
      "PROXIMO PASO: Entrenar modelos en 02_entrenamiento_modelos_podio.ipynb\n",
      "================================================================================\n"
     ]
    }
   ],
   "source": [
    "print(\"\\n\" + \"=\"*80)\n",
    "print(\"RESUMEN FINAL - PREPROCESAMIENTO MODELO 4\")\n",
    "print(\"=\"*80)\n",
    "\n",
    "print(f\"\\n1. DATASET TRAIN (Original):\")\n",
    "print(f\"   Registros: {len(X_train):,}\")\n",
    "print(f\"   Features: {len(X_train.columns)}\")\n",
    "print(f\"   No Podio: {(y_train == 0).sum():,} ({100*(y_train == 0).mean():.2f}%)\")\n",
    "print(f\"   Podio: {(y_train == 1).sum():,} ({100*(y_train == 1).mean():.2f}%)\")\n",
    "\n",
    "print(f\"\\n2. DATASET TRAIN (Balanceado con SMOTE):\")\n",
    "print(f\"   Registros: {len(X_train_smote):,}\")\n",
    "print(f\"   Features: {len(X_train.columns)}\")\n",
    "print(f\"   No Podio: {(y_train_smote == 0).sum():,} ({100*(y_train_smote == 0).mean():.2f}%)\")\n",
    "print(f\"   Podio: {(y_train_smote == 1).sum():,} ({100*(y_train_smote == 1).mean():.2f}%)\")\n",
    "\n",
    "print(f\"\\n3. DATASET TEST:\")\n",
    "print(f\"   Registros: {len(X_test):,}\")\n",
    "print(f\"   Features: {len(X_test.columns)}\")\n",
    "print(f\"   No Podio: {(y_test == 0).sum():,} ({100*(y_test == 0).mean():.2f}%)\")\n",
    "print(f\"   Podio: {(y_test == 1).sum():,} ({100*(y_test == 1).mean():.2f}%)\")\n",
    "\n",
    "print(f\"\\n4. TRANSFORMACIONES APLICADAS:\")\n",
    "print(f\"   - MinMaxScaler: {len(minmax_features)} features\")\n",
    "print(f\"   - StandardScaler: {len(standard_features)} features\")\n",
    "print(f\"   - Target Encoding: {len(target_encoding_features)} features\")\n",
    "print(f\"   - One-Hot Encoding: {len(onehot_features)} features\")\n",
    "\n",
    "print(f\"\\n5. DATA LEAKAGE:\")\n",
    "print(f\"   - Variables eliminadas: 12\")\n",
    "print(f\"   - Features historicas con shift(1): Previene leakage temporal\")\n",
    "print(f\"   - Split temporal: Train (hasta 2022), Test (2023+)\")\n",
    "\n",
    "print(f\"\\n6. ARCHIVOS GENERADOS:\")\n",
    "print(f\"   - 4 archivos de datos (train/test original)\")\n",
    "print(f\"   - 2 archivos de datos balanceados (SMOTE)\")\n",
    "print(f\"   - 3 transformadores (scalers, encoder)\")\n",
    "\n",
    "print(\"\\n\" + \"=\"*80)\n",
    "print(\"PROXIMO PASO: Entrenar modelos en 02_entrenamiento_modelos_podio.ipynb\")\n",
    "print(\"=\"*80)"
   ]
  },
  {
   "cell_type": "code",
   "execution_count": null,
   "metadata": {},
   "outputs": [],
   "source": []
  }
 ],
 "metadata": {
  "kernelspec": {
   "display_name": "Python 3 (ipykernel)",
   "language": "python",
   "name": "python3"
  },
  "language_info": {
   "codemirror_mode": {
    "name": "ipython",
    "version": 3
   },
   "file_extension": ".py",
   "mimetype": "text/x-python",
   "name": "python",
   "nbconvert_exporter": "python",
   "pygments_lexer": "ipython3",
   "version": "3.11.14"
  }
 },
 "nbformat": 4,
 "nbformat_minor": 4
}
